{
  "cells": [
    {
      "cell_type": "markdown",
      "metadata": {
        "id": "1TFwaJir_Olj"
      },
      "source": [
        "# ML2025 Homework 1 - Retrieval Augmented Generation with Agents"
      ]
    },
    {
      "cell_type": "markdown",
      "metadata": {
        "id": "6tQHdH2k_Olk"
      },
      "source": [
        "## Environment Setup"
      ]
    },
    {
      "cell_type": "markdown",
      "metadata": {
        "id": "-_ZkNxqGGhdl"
      },
      "source": [
        "First, we will mount your own Google Drive and change the working directory."
      ]
    },
    {
      "cell_type": "code",
      "execution_count": null,
      "metadata": {
        "colab": {
          "base_uri": "https://localhost:8080/"
        },
        "id": "DWQh-lq8GuwZ",
        "outputId": "4ab30b52-764f-404c-bf21-c017485bf6f6"
      },
      "outputs": [
        {
          "name": "stdout",
          "output_type": "stream",
          "text": [
            "Mounted at /content/drive\n"
          ]
        }
      ],
      "source": [
        "from google.colab import drive\n",
        "drive.mount('/content/drive')"
      ]
    },
    {
      "cell_type": "code",
      "execution_count": null,
      "metadata": {
        "colab": {
          "base_uri": "https://localhost:8080/"
        },
        "id": "P_5Tf1rMHBQ-",
        "outputId": "a78b7b96-8812-4ffd-f496-e9e6e67d7198"
      },
      "outputs": [
        {
          "name": "stdout",
          "output_type": "stream",
          "text": [
            "/content/drive/MyDrive/QA\n"
          ]
        }
      ],
      "source": [
        "# Change the working directory to somewhere in your Google Drive.\n",
        "# You could check the path by right clicking on the folder.\n",
        "# %cd [change to the directory you prefer]\n",
        "%cd /content/drive/MyDrive/QA"
      ]
    },
    {
      "cell_type": "markdown",
      "metadata": {
        "id": "mGx000oZ_Oll"
      },
      "source": [
        "In this section, we install the necessary python packages and download model weights of the quantized version of LLaMA 3.1 8B. Also, download the dataset. Note that the model weight is around 8GB. If you are using your Google Drive as the working directory, make sure you have enough space for the model."
      ]
    },
    {
      "cell_type": "code",
      "execution_count": null,
      "metadata": {
        "colab": {
          "base_uri": "https://localhost:8080/"
        },
        "id": "5JywoPOO_Oll",
        "outputId": "ccbf2bc9-46e6-4c79-9602-bb63ad974e0b"
      },
      "outputs": [
        {
          "name": "stdout",
          "output_type": "stream",
          "text": [
            "Looking in indexes: https://pypi.org/simple, https://abetlen.github.io/llama-cpp-python/whl/cu122\n",
            "Collecting llama-cpp-python==0.3.4\n",
            "  Downloading https://github.com/abetlen/llama-cpp-python/releases/download/v0.3.4-cu122/llama_cpp_python-0.3.4-cp311-cp311-linux_x86_64.whl (445.2 MB)\n",
            "\u001b[2K     \u001b[90m━━━━━━━━━━━━━━━━━━━━━━━━━━━━━━━━━━━━━\u001b[0m \u001b[32m445.2/445.2 MB\u001b[0m \u001b[31m135.9 MB/s\u001b[0m eta \u001b[36m0:00:00\u001b[0m\n",
            "\u001b[?25hRequirement already satisfied: typing-extensions>=4.5.0 in /usr/local/lib/python3.11/dist-packages (from llama-cpp-python==0.3.4) (4.14.1)\n",
            "Requirement already satisfied: numpy>=1.20.0 in /usr/local/lib/python3.11/dist-packages (from llama-cpp-python==0.3.4) (2.0.2)\n",
            "Collecting diskcache>=5.6.1 (from llama-cpp-python==0.3.4)\n",
            "  Downloading diskcache-5.6.3-py3-none-any.whl.metadata (20 kB)\n",
            "Requirement already satisfied: jinja2>=2.11.3 in /usr/local/lib/python3.11/dist-packages (from llama-cpp-python==0.3.4) (3.1.6)\n",
            "Requirement already satisfied: MarkupSafe>=2.0 in /usr/local/lib/python3.11/dist-packages (from jinja2>=2.11.3->llama-cpp-python==0.3.4) (3.0.2)\n",
            "Downloading diskcache-5.6.3-py3-none-any.whl (45 kB)\n",
            "\u001b[2K   \u001b[90m━━━━━━━━━━━━━━━━━━━━━━━━━━━━━━━━━━━━━━━━\u001b[0m \u001b[32m45.5/45.5 kB\u001b[0m \u001b[31m7.2 MB/s\u001b[0m eta \u001b[36m0:00:00\u001b[0m\n",
            "\u001b[?25hInstalling collected packages: diskcache, llama-cpp-python\n",
            "Successfully installed diskcache-5.6.3 llama-cpp-python-0.3.4\n",
            "Collecting googlesearch-python\n",
            "  Downloading googlesearch_python-1.3.0-py3-none-any.whl.metadata (3.4 kB)\n",
            "Collecting bs4\n",
            "  Downloading bs4-0.0.2-py2.py3-none-any.whl.metadata (411 bytes)\n",
            "Requirement already satisfied: charset-normalizer in /usr/local/lib/python3.11/dist-packages (3.4.2)\n",
            "Collecting requests-html\n",
            "  Downloading requests_html-0.10.0-py3-none-any.whl.metadata (15 kB)\n",
            "Collecting lxml_html_clean\n",
            "  Downloading lxml_html_clean-0.4.2-py3-none-any.whl.metadata (2.4 kB)\n",
            "Requirement already satisfied: beautifulsoup4>=4.9 in /usr/local/lib/python3.11/dist-packages (from googlesearch-python) (4.13.4)\n",
            "Requirement already satisfied: requests>=2.20 in /usr/local/lib/python3.11/dist-packages (from googlesearch-python) (2.32.3)\n",
            "Collecting pyquery (from requests-html)\n",
            "  Downloading pyquery-2.0.1-py3-none-any.whl.metadata (9.0 kB)\n",
            "Collecting fake-useragent (from requests-html)\n",
            "  Downloading fake_useragent-2.2.0-py3-none-any.whl.metadata (17 kB)\n",
            "Collecting parse (from requests-html)\n",
            "  Downloading parse-1.20.2-py2.py3-none-any.whl.metadata (22 kB)\n",
            "Collecting w3lib (from requests-html)\n",
            "  Downloading w3lib-2.3.1-py3-none-any.whl.metadata (2.3 kB)\n",
            "Collecting pyppeteer>=0.0.14 (from requests-html)\n",
            "  Downloading pyppeteer-2.0.0-py3-none-any.whl.metadata (7.1 kB)\n",
            "Requirement already satisfied: lxml in /usr/local/lib/python3.11/dist-packages (from lxml_html_clean) (5.4.0)\n",
            "Requirement already satisfied: soupsieve>1.2 in /usr/local/lib/python3.11/dist-packages (from beautifulsoup4>=4.9->googlesearch-python) (2.7)\n",
            "Requirement already satisfied: typing-extensions>=4.0.0 in /usr/local/lib/python3.11/dist-packages (from beautifulsoup4>=4.9->googlesearch-python) (4.14.1)\n",
            "Collecting appdirs<2.0.0,>=1.4.3 (from pyppeteer>=0.0.14->requests-html)\n",
            "  Downloading appdirs-1.4.4-py2.py3-none-any.whl.metadata (9.0 kB)\n",
            "Requirement already satisfied: certifi>=2023 in /usr/local/lib/python3.11/dist-packages (from pyppeteer>=0.0.14->requests-html) (2025.7.14)\n",
            "Requirement already satisfied: importlib-metadata>=1.4 in /usr/local/lib/python3.11/dist-packages (from pyppeteer>=0.0.14->requests-html) (8.7.0)\n",
            "Collecting pyee<12.0.0,>=11.0.0 (from pyppeteer>=0.0.14->requests-html)\n",
            "  Downloading pyee-11.1.1-py3-none-any.whl.metadata (2.8 kB)\n",
            "Requirement already satisfied: tqdm<5.0.0,>=4.42.1 in /usr/local/lib/python3.11/dist-packages (from pyppeteer>=0.0.14->requests-html) (4.67.1)\n",
            "Collecting urllib3<2.0.0,>=1.25.8 (from pyppeteer>=0.0.14->requests-html)\n",
            "  Downloading urllib3-1.26.20-py2.py3-none-any.whl.metadata (50 kB)\n",
            "\u001b[2K     \u001b[90m━━━━━━━━━━━━━━━━━━━━━━━━━━━━━━━━━━━━━━━━\u001b[0m \u001b[32m50.1/50.1 kB\u001b[0m \u001b[31m3.3 MB/s\u001b[0m eta \u001b[36m0:00:00\u001b[0m\n",
            "\u001b[?25hCollecting websockets<11.0,>=10.0 (from pyppeteer>=0.0.14->requests-html)\n",
            "  Downloading websockets-10.4-cp311-cp311-manylinux_2_5_x86_64.manylinux1_x86_64.manylinux_2_17_x86_64.manylinux2014_x86_64.whl.metadata (6.4 kB)\n",
            "Requirement already satisfied: idna<4,>=2.5 in /usr/local/lib/python3.11/dist-packages (from requests>=2.20->googlesearch-python) (3.10)\n",
            "Collecting cssselect>=1.2.0 (from pyquery->requests-html)\n",
            "  Downloading cssselect-1.3.0-py3-none-any.whl.metadata (2.6 kB)\n",
            "Requirement already satisfied: zipp>=3.20 in /usr/local/lib/python3.11/dist-packages (from importlib-metadata>=1.4->pyppeteer>=0.0.14->requests-html) (3.23.0)\n",
            "Downloading googlesearch_python-1.3.0-py3-none-any.whl (5.6 kB)\n",
            "Downloading bs4-0.0.2-py2.py3-none-any.whl (1.2 kB)\n",
            "Downloading requests_html-0.10.0-py3-none-any.whl (13 kB)\n",
            "Downloading lxml_html_clean-0.4.2-py3-none-any.whl (14 kB)\n",
            "Downloading pyppeteer-2.0.0-py3-none-any.whl (82 kB)\n",
            "\u001b[2K   \u001b[90m━━━━━━━━━━━━━━━━━━━━━━━━━━━━━━━━━━━━━━━━\u001b[0m \u001b[32m82.9/82.9 kB\u001b[0m \u001b[31m9.4 MB/s\u001b[0m eta \u001b[36m0:00:00\u001b[0m\n",
            "\u001b[?25hDownloading fake_useragent-2.2.0-py3-none-any.whl (161 kB)\n",
            "\u001b[2K   \u001b[90m━━━━━━━━━━━━━━━━━━━━━━━━━━━━━━━━━━━━━━━━\u001b[0m \u001b[32m161.7/161.7 kB\u001b[0m \u001b[31m17.8 MB/s\u001b[0m eta \u001b[36m0:00:00\u001b[0m\n",
            "\u001b[?25hDownloading parse-1.20.2-py2.py3-none-any.whl (20 kB)\n",
            "Downloading pyquery-2.0.1-py3-none-any.whl (22 kB)\n",
            "Downloading w3lib-2.3.1-py3-none-any.whl (21 kB)\n",
            "Downloading appdirs-1.4.4-py2.py3-none-any.whl (9.6 kB)\n",
            "Downloading cssselect-1.3.0-py3-none-any.whl (18 kB)\n",
            "Downloading pyee-11.1.1-py3-none-any.whl (15 kB)\n",
            "Downloading urllib3-1.26.20-py2.py3-none-any.whl (144 kB)\n",
            "\u001b[2K   \u001b[90m━━━━━━━━━━━━━━━━━━━━━━━━━━━━━━━━━━━━━━━━\u001b[0m \u001b[32m144.2/144.2 kB\u001b[0m \u001b[31m16.0 MB/s\u001b[0m eta \u001b[36m0:00:00\u001b[0m\n",
            "\u001b[?25hDownloading websockets-10.4-cp311-cp311-manylinux_2_5_x86_64.manylinux1_x86_64.manylinux_2_17_x86_64.manylinux2014_x86_64.whl (107 kB)\n",
            "\u001b[2K   \u001b[90m━━━━━━━━━━━━━━━━━━━━━━━━━━━━━━━━━━━━━━━━\u001b[0m \u001b[32m107.4/107.4 kB\u001b[0m \u001b[31m12.1 MB/s\u001b[0m eta \u001b[36m0:00:00\u001b[0m\n",
            "\u001b[?25hInstalling collected packages: parse, appdirs, websockets, w3lib, urllib3, pyee, lxml_html_clean, fake-useragent, cssselect, pyquery, pyppeteer, bs4, requests-html, googlesearch-python\n",
            "  Attempting uninstall: websockets\n",
            "    Found existing installation: websockets 15.0.1\n",
            "    Uninstalling websockets-15.0.1:\n",
            "      Successfully uninstalled websockets-15.0.1\n",
            "  Attempting uninstall: urllib3\n",
            "    Found existing installation: urllib3 2.5.0\n",
            "    Uninstalling urllib3-2.5.0:\n",
            "      Successfully uninstalled urllib3-2.5.0\n",
            "\u001b[31mERROR: pip's dependency resolver does not currently take into account all the packages that are installed. This behaviour is the source of the following dependency conflicts.\n",
            "google-genai 1.27.0 requires websockets<15.1.0,>=13.0.0, but you have websockets 10.4 which is incompatible.\n",
            "dataproc-spark-connect 0.8.3 requires websockets>=14.0, but you have websockets 10.4 which is incompatible.\n",
            "yfinance 0.2.65 requires websockets>=13.0, but you have websockets 10.4 which is incompatible.\u001b[0m\u001b[31m\n",
            "\u001b[0mSuccessfully installed appdirs-1.4.4 bs4-0.0.2 cssselect-1.3.0 fake-useragent-2.2.0 googlesearch-python-1.3.0 lxml_html_clean-0.4.2 parse-1.20.2 pyee-11.1.1 pyppeteer-2.0.0 pyquery-2.0.1 requests-html-0.10.0 urllib3-1.26.20 w3lib-2.3.1 websockets-10.4\n"
          ]
        }
      ],
      "source": [
        "!python3 -m pip install --no-cache-dir llama-cpp-python==0.3.4 --extra-index-url https://abetlen.github.io/llama-cpp-python/whl/cu122\n",
        "!python3 -m pip install googlesearch-python bs4 charset-normalizer requests-html lxml_html_clean\n",
        "\n",
        "from pathlib import Path\n",
        "if not Path('./Meta-Llama-3.1-8B-Instruct-Q8_0.gguf').exists():\n",
        "    !wget https://huggingface.co/bartowski/Meta-Llama-3.1-8B-Instruct-GGUF/resolve/main/Meta-Llama-3.1-8B-Instruct-Q8_0.gguf\n",
        "if not Path('./public.txt').exists():\n",
        "    !wget https://www.csie.ntu.edu.tw/~ulin/public.txt\n",
        "if not Path('./private.txt').exists():\n",
        "    !wget https://www.csie.ntu.edu.tw/~ulin/private.txt"
      ]
    },
    {
      "cell_type": "code",
      "execution_count": null,
      "metadata": {
        "colab": {
          "base_uri": "https://localhost:8080/"
        },
        "id": "kX6SizAt_Olm",
        "outputId": "38ad6982-3a4a-477d-f1c6-e70d186b3c87"
      },
      "outputs": [
        {
          "name": "stdout",
          "output_type": "stream",
          "text": [
            "You are good to go!\n"
          ]
        }
      ],
      "source": [
        "import torch\n",
        "if not torch.cuda.is_available():\n",
        "    raise Exception('You are not using the GPU runtime. Change it first or you will suffer from the super slow inference speed!')\n",
        "else:\n",
        "    print('You are good to go!')"
      ]
    },
    {
      "cell_type": "markdown",
      "metadata": {
        "id": "l3iyc1qC_Olm"
      },
      "source": [
        "## Prepare the LLM and LLM utility function"
      ]
    },
    {
      "cell_type": "markdown",
      "metadata": {
        "id": "T59vxAo2_Olm"
      },
      "source": [
        "By default, we will use the quantized version of LLaMA 3.1 8B. you can get full marks on this homework by using the provided LLM and LLM utility function. You can also try out different LLM models."
      ]
    },
    {
      "cell_type": "markdown",
      "metadata": {
        "id": "vtepTeT3_Olm"
      },
      "source": [
        "In the following code block, we will load the downloaded LLM model weights onto the GPU first.\n",
        "Then, we implemented the generate_response() function so that you can get the generated response from the LLM model more easily."
      ]
    },
    {
      "cell_type": "markdown",
      "metadata": {
        "id": "eVil2Vhe_Olm"
      },
      "source": [
        "You can ignore \"llama_new_context_with_model: n_ctx_per_seq (16384) < n_ctx_train (131072) -- the full capacity of the model will not be utilized\" warning."
      ]
    },
    {
      "cell_type": "code",
      "execution_count": null,
      "metadata": {
        "colab": {
          "base_uri": "https://localhost:8080/"
        },
        "id": "ScyW45N__Olm",
        "outputId": "2124ab66-90fc-4304-851c-b647e9f27654"
      },
      "outputs": [
        {
          "name": "stderr",
          "output_type": "stream",
          "text": [
            "llama_new_context_with_model: n_ctx_per_seq (16384) < n_ctx_train (131072) -- the full capacity of the model will not be utilized\n"
          ]
        }
      ],
      "source": [
        "from llama_cpp import Llama\n",
        "\n",
        "# Load the model onto GPU\n",
        "llama3 = Llama(\n",
        "    \"./Meta-Llama-3.1-8B-Instruct-Q8_0.gguf\",\n",
        "    verbose=False,\n",
        "    n_gpu_layers=-1,\n",
        "    n_ctx=16384,    # This argument is how many tokens the model can take. The longer the better, but it will consume more memory. 16384 is a proper value for a GPU with 16GB VRAM.\n",
        ")\n",
        "\n",
        "def generate_response(_model: Llama, _messages: str) -> str:\n",
        "    '''\n",
        "    This function will inference the model with given messages.\n",
        "    '''\n",
        "    _output = _model.create_chat_completion(\n",
        "        _messages,\n",
        "        stop=[\"<|eot_id|>\", \"<|end_of_text|>\"],\n",
        "        max_tokens=512,    # This argument is how many tokens the model can generate, you can change it and observe the differences.\n",
        "        temperature=0,      # This argument is the randomness of the model. 0 means no randomness. You will get the same result with the same input every time. You can try to set it to different values.\n",
        "        repeat_penalty=2.0,\n",
        "    )[\"choices\"][0][\"message\"][\"content\"]\n",
        "    return _output"
      ]
    },
    {
      "cell_type": "markdown",
      "metadata": {
        "id": "tnHLwq-4_Olm"
      },
      "source": [
        "## Search Tool"
      ]
    },
    {
      "cell_type": "markdown",
      "metadata": {
        "id": "SYM-2ZsE_Olm"
      },
      "source": [
        "The TA has implemented a search tool for you to search certain keywords using Google Search. You can use this tool to search for the relevant **web pages** for the given question. The search tool can be integrated in the following sections."
      ]
    },
    {
      "cell_type": "code",
      "execution_count": null,
      "metadata": {
        "id": "bEIRmZl7_Oln"
      },
      "outputs": [],
      "source": [
        "from typing import List\n",
        "from googlesearch import search as _search\n",
        "from bs4 import BeautifulSoup\n",
        "from charset_normalizer import detect\n",
        "import asyncio\n",
        "from requests_html import AsyncHTMLSession\n",
        "import urllib3\n",
        "urllib3.disable_warnings()\n",
        "\n",
        "async def worker(s:AsyncHTMLSession, url:str):\n",
        "    try:\n",
        "        header_response = await asyncio.wait_for(s.head(url, verify=False), timeout=10)\n",
        "        if 'text/html' not in header_response.headers.get('Content-Type', ''):\n",
        "            return None\n",
        "        r = await asyncio.wait_for(s.get(url, verify=False), timeout=10)\n",
        "        return r.text\n",
        "    except:\n",
        "        return None\n",
        "\n",
        "async def get_htmls(urls):\n",
        "    session = AsyncHTMLSession()\n",
        "    tasks = (worker(session, url) for url in urls)\n",
        "    return await asyncio.gather(*tasks)\n",
        "\n",
        "async def search(keyword: str, n_results: int=3) -> List[str]:\n",
        "    '''\n",
        "    This function will search the keyword and return the text content in the first n_results web pages.\n",
        "\n",
        "    Warning: You may suffer from HTTP 429 errors if you search too many times in a period of time. This is unavoidable and you should take your own risk if you want to try search more results at once.\n",
        "    The rate limit is not explicitly announced by Google, hence there's not much we can do except for changing the IP or wait until Google unban you (we don't know how long the penalty will last either).\n",
        "    '''\n",
        "    keyword = keyword[:100]\n",
        "    # First, search the keyword and get the results. Also, get 2 times more results in case some of them are invalid.\n",
        "    results = list(_search(keyword, n_results * 2, lang=\"zh\", unique=True))\n",
        "    # Then, get the HTML from the results. Also, the helper function will filter out the non-HTML urls.\n",
        "    results = await get_htmls(results)\n",
        "    # Filter out the None values.\n",
        "    results = [x for x in results if x is not None]\n",
        "    # Parse the HTML.\n",
        "    results = [BeautifulSoup(x, 'html.parser') for x in results]\n",
        "    # Get the text from the HTML and remove the spaces. Also, filter out the non-utf-8 encoding.\n",
        "    results = [''.join(x.get_text().split()) for x in results if detect(x.encode()).get('encoding') == 'utf-8']\n",
        "    # Return the first n results.\n",
        "    return results[:n_results]"
      ]
    },
    {
      "cell_type": "markdown",
      "metadata": {
        "id": "rC3zQjjj_Oln"
      },
      "source": [
        "## Test the LLM inference pipeline"
      ]
    },
    {
      "cell_type": "code",
      "execution_count": null,
      "metadata": {
        "colab": {
          "base_uri": "https://localhost:8080/"
        },
        "id": "8dmGCARd_Oln",
        "outputId": "b4d8f5ba-0d34-4906-8953-6afa79692a2e"
      },
      "outputs": [
        {
          "name": "stdout",
          "output_type": "stream",
          "text": [
            "泰勒絲（Taylor Swift）是一位美國歌手、詞曲作家和音樂製作人。她出生於1989年，來自田納西州。她的音乐风格从乡村摇滚发展到流行搖擺，並且她被誉为当代最成功的女艺人的之一。\n",
            "\n",
            "泰勒絲早期在鄉郊小鎮演唱會時開始發展音樂事業，她推出了多張專輯，包括《Taylor Swift》、《Fearless》，以及後來更為知名的大熱作如 《1989》（2014年）、_reputation（）和 _Lover （）。她的歌曲經常探討愛情、友誼及自我成長等主題。\n",
            "\n",
            "泰勒絲獲得了許多獎項，包括13座格萊美奖，並且是史上最快達到百萬銷量的女藝人之一。\n"
          ]
        }
      ],
      "source": [
        "# You can try out different questions here.\n",
        "test_question='請問誰是 Taylor Swift？'\n",
        "\n",
        "messages = [\n",
        "    {\"role\": \"system\", \"content\": \"你是 LLaMA-3.1-8B，是用來回答問題的 AI。使用中文時只會使用繁體中文來回問題。\"},    # System prompt\n",
        "    {\"role\": \"user\", \"content\": test_question}, # User prompt\n",
        "]\n",
        "\n",
        "print(generate_response(llama3, messages))"
      ]
    },
    {
      "cell_type": "code",
      "execution_count": null,
      "metadata": {
        "colab": {
          "base_uri": "https://localhost:8080/"
        },
        "id": "7Zk8pyXX30Gf",
        "outputId": "7e0bb0a1-cb9e-45c2-808e-3ab5b77e047f"
      },
      "outputs": [
        {
          "name": "stdout",
          "output_type": "stream",
          "text": [
            "--- 第1篇 ---\n",
            "iPhone(第一代)-维基百科，自由的百科全书跳转到内容主菜单主菜单移至侧栏隐藏导航首页分类索引特色内容新闻动态最近更改随机条目帮助帮助维基社群方针与指引互助客栈知识问答字词转换IRC即时聊天联络我们关于维基百科特殊页面搜索搜索外观资助维基百科创建账号登录个人工具资助维基百科创建账号登录目录移至侧栏隐藏序言1历史开关历史子章节1.1研发1.2发售1.3发售后2设计3系列特点和功能4软件5评价6各代iPhone型号的时间轴7参考资料开关目录iPhone(第一代)48种语言ÆngliscالعربيةتۆرکجهবাংলাCatalàکوردیČeštinaDanskDeutschΕλληνικ...\n",
            "\n",
            "--- 第2篇 ---\n",
            "iPhone-维基百科，自由的百科全书跳转到内容主菜单主菜单移至侧栏隐藏导航首页分类索引特色内容新闻动态最近更改随机条目帮助帮助维基社群方针与指引互助客栈知识问答字词转换IRC即时聊天联络我们关于维基百科特殊页面搜索搜索外观资助维基百科创建账号登录个人工具资助维基百科创建账号登录目录移至侧栏隐藏序言1歷史开关歷史子章节1.1研发阶段1.2iPhone上市2型號开关型號子章节2.1在售设备2.2停售裝置3硬件开关硬件子章节3.1螢幕與按键3.2传感器3.2.1距离传感器3.2.2光线传感器3.2.3磁传感器3.2.4重力传感器3.2.5液體接觸感應器3.2.6迴轉儀感應器3.2.7无线电传感器3...\n",
            "\n",
            "--- 第3篇 ---\n",
            "歷史上的今天》1月9日──賈伯斯用手機改變歷史第一代iPhone問世首頁新聞股市運動TV汽機車購物中心拍賣氣象Yahoo國際App下載Yahoo奇摩新聞搜尋登入熱搜杜詩梅嗆律師台版紅姐排風扇邱正雄辭世飯店比價劉宇寧保險箱金庫大谷翔平日本關稅國光客運焦點即時大罷免風暴娛樂影劇國際政治社會地方財經運動玩樂品味健康遊戲3CFun暑假更多新聞專輯焦點每日Yahoo焦點Yahoo補助通Yahoo畫重點一周大事Yahoo獨家授權熱門新聞天氣民調Yahoo國際通話題PK小測驗合作媒體新聞專輯即時娛樂即時國際即時政治即時社會即時財經即時生活即時運動即時科技即時健康即時大罷免風暴罷免名單一次看罷免投票注意事項關...\n",
            "\n"
          ]
        }
      ],
      "source": [
        "# 测试Search Tool\n",
        "async def main():\n",
        "    results = await search(\"第一代 iPhone 是由哪位蘋果 CEO 發表？\", n_results=3)\n",
        "    for i, text in enumerate(results):\n",
        "        print(f\"--- 第{i+1}篇 ---\")\n",
        "        print(text[:300] + \"...\\n\")\n",
        "\n",
        "await main()\n"
      ]
    },
    {
      "cell_type": "markdown",
      "metadata": {
        "id": "C0-ojJuE_Oln"
      },
      "source": [
        "## Agents"
      ]
    },
    {
      "cell_type": "markdown",
      "metadata": {
        "id": "HGsIPud3_Oln"
      },
      "source": [
        "The TA has implemented the Agent class for you. You can use this class to create agents that can interact with the LLM model. The Agent class has the following attributes and methods:\n",
        "- Attributes:\n",
        "    - role_description: The role of the agent. For example, if you want this agent to be a history expert, you can set the role_description to \"You are a history expert. You will only answer questions based on what really happened in the past. Do not generate any answer if you don't have reliable sources.\".\n",
        "    - task_description: The task of the agent. For example, if you want this agent to answer questions only in yes/no, you can set the task_description to \"Please answer the following question in yes/no. Explanations are not needed.\"\n",
        "    - llm: Just an indicator of the LLM model used by the agent.\n",
        "- Method:\n",
        "    - inference: This method takes a message as input and returns the generated response from the LLM model. The message will first be formatted into proper input for the LLM model. (This is where you can set some global instructions like \"Please speak in a polite manner\" or \"Please provide a detailed explanation\".) The generated response will be returned as the output."
      ]
    },
    {
      "cell_type": "code",
      "execution_count": null,
      "metadata": {
        "id": "zjG-UwDX_Oln"
      },
      "outputs": [],
      "source": [
        "class LLMAgent():\n",
        "    def __init__(self, role_description: str, task_description: str, llm:str=\"bartowski/Meta-Llama-3.1-8B-Instruct-GGUF\"):\n",
        "        self.role_description = role_description   # Role means who this agent should act like. e.g. the history expert, the manager......\n",
        "        self.task_description = task_description    # Task description instructs what task should this agent solve.\n",
        "        self.llm = llm  # LLM indicates which LLM backend this agent is using.\n",
        "    def inference(self, message:str) -> str:\n",
        "        if self.llm == 'bartowski/Meta-Llama-3.1-8B-Instruct-GGUF': # If using the default one.\n",
        "            # TODO: Design the system prompt and user prompt here.\n",
        "            # Format the messsages first.\n",
        "            messages = [\n",
        "                {\"role\": \"system\", \"content\": f\"{self.role_description}\"},  # Hint: you may want the agents to speak Traditional Chinese only.\n",
        "                {\"role\": \"user\", \"content\": f\"{self.task_description}\\n{message}\"}, # Hint: you may want the agents to clearly distinguish the task descriptions and the user messages. A proper seperation text rather than a simple line break is recommended.\n",
        "            ]\n",
        "            return generate_response(llama3, messages)\n",
        "        else:\n",
        "            # TODO: If you want to use LLMs other than the given one, please implement the inference part on your own.\n",
        "            return \"\""
      ]
    },
    {
      "cell_type": "markdown",
      "metadata": {
        "id": "0-ueJrgP_Oln"
      },
      "source": [
        "TODO: Design the role description and task description for each agent."
      ]
    },
    {
      "cell_type": "code",
      "execution_count": null,
      "metadata": {
        "id": "DzPzmNnj_Oln"
      },
      "outputs": [],
      "source": [
        "# TODO: Design the role and task description for each agent.\n",
        "\n",
        "# This agent may help you filter out the irrelevant parts in question descriptions.\n",
        "\n",
        "\n",
        "question_extraction_agent = LLMAgent(\n",
        "    role_description=(\n",
        "        \"你是一位專業的問題分析師，擅長從冗長、含混或背景繁複的敘述中，\"\n",
        "        \"準確抽取出最核心、需要被解答的單一句完整問題。你只使用繁體中文回答。\"\n",
        "    ),\n",
        "    task_description=(\n",
        "        \"請從下列敘述中，**萃取出一句內容完整、具體明確、可獨立理解的「疑問句」**，這句話必須清楚地表達使用者真正想知道的事情。\\n\\n\"\n",
        "        \"請注意：\\n\"\n",
        "        \"- 僅輸出一句**具備問句語氣的問題句**，不可回述陳述句或背景敘述\\n\"\n",
        "        \"- **必須包含問詞**，如「是誰」、「什麼」、「哪裡」、「為何」、「怎麼做」等\\n\"\n",
        "        \"- 保留對理解問題有幫助的關鍵資訊（如主體、情境、時間）\\n\"\n",
        "        \"- 不得簡化成失去意義的泛泛提問；也不能只保留背景、忽略真正的提問\\n\"\n",
        "        \"- 禁止任何說明、標點或多句輸出，僅輸出一句能獨立理解的問題\\n\\n\"\n",
        "    )\n",
        ")\n",
        "\n",
        "\n",
        "# This agent may help you extract the keywords in a question so that the search tool can find more accurate results.\n",
        "keyword_extraction_agent = LLMAgent(\n",
        "    role_description=(\n",
        "        \"你是一位專業的搜尋關鍵字萃取專家，擅長從問題中提取出最適合用來搜尋的具體關鍵詞或短語。\"\n",
        "        \"你只會用繁體中文回答。\"\n",
        "    ),\n",
        "    task_description=(\n",
        "        \"請從下列問題中，**萃取出最能提升搜尋精準度的名詞或短語**，\"\n",
        "        \"應包含有辨識力的具體資訊，例如：人名、課程名稱、機構、主題、時間、內容編號等。\\n\\n\"\n",
        "        \"請避免：\\n\"\n",
        "        \"- 過於籠統的詞（如：問題、資料、內容）\\n\"\n",
        "        \"- 非名詞（如：想知道、了解、請問）\\n\\n\"\n",
        "        \"請直接輸出以「逗號」分隔的關鍵字，不要加任何說明或多餘標點。\\n\\n\"\n",
        "        \"【範例 1】\\n\"\n",
        "        \"輸入：李宏毅在2023年春季的《機器學習》課程中，第15個作業是什麼？\\n\"\n",
        "        \"輸出：李宏毅,2023年春季,機器學習,第15個作業\\n\\n\"\n",
        "        \"【範例 2】\\n\"\n",
        "        \"輸入：請推薦台大電機系學生在大三可以選的通識好課。\\n\"\n",
        "        \"輸出：台大,電機系,大三,通識課,推薦課程\\n\\n\"\n",
        "        \"【範例 3】\\n\"\n",
        "        \"輸入：為什麼貓會在你打電腦的時候跳到鍵盤上？\\n\"\n",
        "        \"輸出：貓,鍵盤行為,人貓互動,電腦\\n\"\n",
        "    )\n",
        ")\n",
        "\n",
        "\n",
        "\n",
        "# This agent is the core component that answers the question.\n",
        "# qa_agent = LLMAgent(\n",
        "#     role_description=(\n",
        "#         \"你是一位專精於簡短問答的 AI 助理，只使用繁體中文回答問題。\"\n",
        "#         \"你只能根據提供的資料回答，不得加入個人解釋或描述。\"\n",
        "#     ),\n",
        "#     task_description=(\n",
        "#         \"請根據下列資料回答問題，並嚴格遵守以下格式與規則：\\n\\n\"\n",
        "#         \"【回答格式】\\n\"\n",
        "#         \"只能回答一句完整句子，開頭為：「答：」，禁止其他內容。\\n\"\n",
        "#         \"若資料中沒有答案，請回答：「答：資料中未提及。」\\n\\n\"\n",
        "#         \"【嚴格限制】\\n\"\n",
        "#         \"- 只能回答一句，禁止多句、禁止補充\\n\"\n",
        "#         \"- 禁止使用任何背景敘述、來源引用或感想\\n\"\n",
        "#         \"- 嚴禁重述資料內容，只能輸出答案句\\n\\n\"\n",
        "#         \"【範例】\\n\"\n",
        "#         \"問題：第一代 iPhone 是由哪位蘋果 CEO 發表？\\n\"\n",
        "#         \"答：第一代 iPhone 是由 Steve Jobs（史提夫賈伯斯）發表。\\n\\n\"\n",
        "#         \"請根據資料回答以下問題：\"\n",
        "#     )\n",
        "# )\n",
        "qa_agent = LLMAgent(\n",
        "    role_description=\"你是极简回答器，仅用繁体中文。\",\n",
        "    task_description=(\n",
        "        \"请用一句繁体中文回答，开头固定为「答：」。\\n\"\n",
        "        \"无答案时回复「答：资料中未提及。」\"\n",
        "    )\n",
        ")\n"
      ]
    },
    {
      "cell_type": "markdown",
      "metadata": {
        "id": "A9eoywr7_Oln"
      },
      "source": [
        "## RAG pipeline"
      ]
    },
    {
      "cell_type": "markdown",
      "metadata": {
        "id": "8HDOjNYJ_Oln"
      },
      "source": [
        "TODO: Implement the RAG pipeline."
      ]
    },
    {
      "cell_type": "markdown",
      "metadata": {
        "id": "MRGNa-1i_Oln"
      },
      "source": [
        "Please refer to the homework description slides for hints.\n",
        "\n",
        "Also, there might be more heuristics (e.g. classifying the questions based on their lengths, determining if the question need a search or not, reconfirm the answer before returning it to the user......) that are not shown in the flow charts. You can use your creativity to come up with a better solution!"
      ]
    },
    {
      "cell_type": "markdown",
      "metadata": {
        "id": "cMaIsKAZ_Olo"
      },
      "source": [
        "- Naive approach (simple baseline)\n",
        "\n",
        "    ![](https://www.csie.ntu.edu.tw/~ulin/naive.png)"
      ]
    },
    {
      "cell_type": "markdown",
      "metadata": {
        "id": "mppO-oOO_Olo"
      },
      "source": [
        "- Naive RAG approach (medium baseline)\n",
        "\n",
        "    ![](https://www.csie.ntu.edu.tw/~ulin/naive_rag.png)"
      ]
    },
    {
      "cell_type": "markdown",
      "metadata": {
        "id": "HYxbciLO_Olo"
      },
      "source": [
        "- RAG with agents (strong baseline)\n",
        "\n",
        "    ![](https://www.csie.ntu.edu.tw/~ulin/rag_agent.png)"
      ]
    },
    {
      "cell_type": "code",
      "execution_count": null,
      "metadata": {
        "id": "ztJkA7R7_Olo"
      },
      "outputs": [],
      "source": [
        "# async def pipeline(question: str) -> str:\n",
        "#     # TODO: Implement your pipeline.\n",
        "#     # Currently, it only feeds the question directly to the LLM.\n",
        "#     # You may want to get the final results through multiple inferences.\n",
        "#     # Just a quick reminder, make sure your input length is within the limit of the model context window (16384 tokens), you may want to truncate some excessive texts.\n",
        "#     return qa_agent.inference(question)"
      ]
    },
    {
      "cell_type": "code",
      "execution_count": null,
      "metadata": {
        "id": "B-LBMAUM9S0g"
      },
      "outputs": [],
      "source": [
        "question = \"卑南族是位在臺東平原的一個原住民族，以驍勇善戰、擅長巫術聞名，曾經統治整個臺東平原。相傳卑南族的祖先發源自 ruvuwa'an，該地位於現今的哪個行政區劃？\"\n",
        "core_question = question_extraction_agent.inference(question)"
      ]
    },
    {
      "cell_type": "code",
      "execution_count": null,
      "metadata": {
        "colab": {
          "base_uri": "https://localhost:8080/",
          "height": 36
        },
        "id": "tOIu2f-w9WIw",
        "outputId": "f21b1b8f-d5bf-4787-d443-7974b65d61b3"
      },
      "outputs": [
        {
          "data": {
            "application/vnd.google.colaboratory.intrinsic+json": {
              "type": "string"
            },
            "text/plain": [
              "'該地位於現今的哪個行政區劃？'"
            ]
          },
          "execution_count": 27,
          "metadata": {},
          "output_type": "execute_result"
        }
      ],
      "source": [
        "core_question"
      ]
    },
    {
      "cell_type": "code",
      "execution_count": null,
      "metadata": {
        "id": "FMynEkoPlBfl"
      },
      "outputs": [],
      "source": [
        "async def pipeline(question: str) -> str:\n",
        "    # 问题抽取\n",
        "    core_question = question_extraction_agent.inference(question)\n",
        "\n",
        "    # 关键词抽取\n",
        "    # keywords = keyword_extraction_agent.inference(core_question)\n",
        "\n",
        "    # 抓取网页资料\n",
        "    # search_results = await search(keywords, n_results=3)\n",
        "    search_results = await search(core_question, n_results=3)\n",
        "\n",
        "    # 限制每篇网页内容最大长度（例如 1500 字符）\n",
        "    max_chars_per_doc = 3000\n",
        "\n",
        "    trimmed_results = [\n",
        "      f\"[資料{i+1}]\\n{text[:max_chars_per_doc]}\" for i, text in enumerate(search_results)\n",
        "      ]\n",
        "\n",
        "\n",
        "    # 拼接为 web_content\n",
        "    web_content = \"\\n\".join(trimmed_results)\n",
        "\n",
        "    # 构建提示词\n",
        "    combined_prompt = f\"\"\"\n",
        "    【任務說明】\n",
        "    你是一位知識嚴謹的專家，請根據下方的網頁資料來回答問題。\n",
        "\n",
        "    【網頁資料】\n",
        "    {web_content}\n",
        "\n",
        "    【使用者問題】\n",
        "    {core_question}\n",
        "\n",
        "    請用繁體中文詳細回答，並請不要引用網頁以外的資訊。\n",
        "    \"\"\"\n",
        "    # 使用agent模型推理\n",
        "    agent = LLMAgent(\n",
        "      role_description=\"你是知識型 AI 助理，請使用提供的資料來回答問題。\",\n",
        "      task_description=\"任務：閱讀資料並根據問題作出推理與解釋。\",\n",
        "    )\n",
        "    response = agent.inference(combined_prompt)\n",
        "    return response"
      ]
    },
    {
      "cell_type": "markdown",
      "metadata": {
        "id": "P_kI_9EGB0S9"
      },
      "source": [
        "## Answer the questions using your pipeline!"
      ]
    },
    {
      "cell_type": "markdown",
      "metadata": {
        "id": "PN17sSZ8DUg7"
      },
      "source": [
        "Since Colab has usage limit, you might encounter the disconnections. The following code will save your answer for each question. If you have mounted your Google Drive as instructed, you can just rerun the whole notebook to continue your process."
      ]
    },
    {
      "cell_type": "code",
      "execution_count": null,
      "metadata": {
        "id": "F6DPPkYQsgXo"
      },
      "outputs": [],
      "source": [
        "import pandas as pd\n",
        "df = pd.read_csv('./qa.csv', encoding='utf-8')"
      ]
    },
    {
      "cell_type": "code",
      "execution_count": null,
      "metadata": {
        "colab": {
          "base_uri": "https://localhost:8080/",
          "height": 241
        },
        "id": "R68A9FrqttGj",
        "outputId": "14fc83be-a8b8-4568-d70b-bebbdd557c4e"
      },
      "outputs": [
        {
          "data": {
            "application/vnd.google.colaboratory.intrinsic+json": {
              "summary": "{\n  \"name\": \"df\",\n  \"rows\": 90,\n  \"fields\": [\n    {\n      \"column\": \"\\u95ee\\u9898\",\n      \"properties\": {\n        \"dtype\": \"string\",\n        \"num_unique_values\": 90,\n        \"samples\": [\n          \"\\u300a\\u6975\\u9650\\u9ad4\\u80fd\\u738bSASUKE\\u300b\\u662f\\u65e5\\u672cTBS\\u96fb\\u8996\\u53f0\\u4e0d\\u5b9a\\u671f\\u64ad\\u51fa\\u7684\\u904b\\u52d5\\u5a1b\\u6a02\\u7279\\u5225\\u7bc0\\u76ee\\uff0c\\u5176\\u8eab\\u53d7\\u65e5\\u672c\\u89c0\\u773e\\u559c\\u611b\\uff0c\\u5728\\u65e5\\u672c\\u64c1\\u6709\\u9ad8\\u6536\\u8996\\u7387\\u3002\\u300a\\u6975\\u9650\\u9ad4\\u80fd\\u738bSASUKE\\u300b\\u5728\\u5168\\u4e16\\u754c\\u6709\\u4e0d\\u5c0f\\u7684\\u77e5\\u540d\\u5ea6\\uff0c\\u4e26\\u4e0d\\u50c5\\u50c5\\u662f\\u5728\\u4e0d\\u540c\\u570b\\u5bb6\\u64ad\\u51fa\\u7bc0\\u76ee\\uff0c\\u751a\\u81f3\\u572818\\u500b\\u570b\\u5bb6\\u6216\\u5730\\u5340\\u9084\\u8207\\u7576\\u5730\\u96fb\\u8996\\u53f0\\u5408\\u4f5c\\u88fd\\u4f5c\\u5728\\u5730\\u7248\\u7684\\u300a\\u6975\\u9650\\u9ad4\\u80fd\\u738bSASUKE\\u300b\\u7bc0\\u76ee\\u3002\\u8acb\\u554f2024\\u5e74\\u7684\\u7b2c42\\u56de\\u300a\\u6975\\u9650\\u9ad4\\u80fd\\u738bSASUKE\\u300b\\u57282024\\u5e74\\u7684\\u54ea\\u4e00\\u5929\\u9996\\u64ad\\uff1f\",\n          \"\\u300c\\u5982\\u679c\\u4f60\\u670b\\u53cb\\u5531\\u6b4c\\u6c92\\u6709\\u8dd1\\u8abf\\uff0c\\u4e00\\u5b9a\\u662f\\u4ed6\\u7684\\u4f34\\u4fb6\\u8dd1\\u6389\\u4e86\\u300d\\u662f\\u4e00\\u53e5\\u7528\\u4f86\\u5f62\\u5bb9\\u5931\\u6200\\u4e4b\\u4eba\\u5531\\u6b4c\\u6a21\\u6a23\\u7684\\u7db2\\u8def\\u7b11\\u8a71\\u3002\\u300c\\u77ed\\u66ab\\u4ea4\\u6703\\u7684\\u65c5\\u7a0b\\u5c31\\u6b64\\u5206\\u5c94\\u300d\\u662f\\u54ea\\u500b\\u6b4c\\u5531\\u5718\\u9ad4\\u6b4c\\u66f2\\u4e2d\\u7684\\u6b4c\\u8a5e\\uff1f\",\n          \"\\u76f8\\u50b3\\u5728\\u53f0\\u7063\\u5927\\u5b78\\u7684\\u67d0\\u4e00\\u5802\\u7a0b\\u5f0f\\u8a2d\\u8a08\\u8ab2\\u7a0b\\u5f9e\\u4f86\\u4e0d\\u6703\\u9032\\u884c\\u5206\\u7d44\\uff0c\\u5982\\u679c\\u6709\\u4eba\\u554f\\u70ba\\u751a\\u9ebc\\u6c92\\u6709\\u5206\\u7d44\\uff0c\\u8001\\u5e2b\\u7e3d\\u6703\\u8aaa\\u300c\\u6211\\u4e0a\\u8ab2\\u90fd\\u4e0d\\u5206\\u7d44\\u7684\\u3002\\u5206\\u7d44\\u7684\\u7d50\\u679c\\u901a\\u5e38\\u90fd\\u662f\\u4e00\\u500b\\u963f\\u5b85\\u5728\\u5bebcode\\uff1b\\u4e00\\u500b\\u672a\\u4f86\\u53ef\\u4ee5\\u7576PM\\u7684\\u5728\\u53f0\\u4e0a\\u5439\\u725b\\uff1b\\u4e00\\u500b\\u5ee2\\u67f4\\u8dd1\\u53bb\\u8cb7\\u4fbf\\u7576\\u300d\\u3002\\u8acb\\u554f\\u8b1b\\u51fa\\u9019\\u53e5\\u8a71\\u7684\\u8001\\u5e2b\\u662f\\u8ab0\\uff1f\"\n        ],\n        \"semantic_type\": \"\",\n        \"description\": \"\"\n      }\n    },\n    {\n      \"column\": \"\\u7b54\\u6848\",\n      \"properties\": {\n        \"dtype\": \"string\",\n        \"num_unique_values\": 90,\n        \"samples\": [\n          \"2024\\u5e7412\\u670825\\u65e5\\u64ad\\u51fa\",\n          \"\\u300c\\u77ed\\u66ab\\u4ea4\\u6703\\u7684\\u65c5\\u7a0b\\u5c31\\u6b64\\u5206\\u5c94\\u300d\\u662f\\u300c\\u52d5\\u529b\\u706b\\u8eca\\u300d\\u6b4c\\u66f2\\u4e2d\\u7684\\u6b4c\\u8a5e\\u3002\",\n          \"\\u5289\\u90a6\\u92d2\"\n        ],\n        \"semantic_type\": \"\",\n        \"description\": \"\"\n      }\n    }\n  ]\n}",
              "type": "dataframe",
              "variable_name": "df"
            },
            "text/html": [
              "\n",
              "  <div id=\"df-a48a049e-a020-4129-8294-86d22d41d8c2\" class=\"colab-df-container\">\n",
              "    <div>\n",
              "<style scoped>\n",
              "    .dataframe tbody tr th:only-of-type {\n",
              "        vertical-align: middle;\n",
              "    }\n",
              "\n",
              "    .dataframe tbody tr th {\n",
              "        vertical-align: top;\n",
              "    }\n",
              "\n",
              "    .dataframe thead th {\n",
              "        text-align: right;\n",
              "    }\n",
              "</style>\n",
              "<table border=\"1\" class=\"dataframe\">\n",
              "  <thead>\n",
              "    <tr style=\"text-align: right;\">\n",
              "      <th></th>\n",
              "      <th>问题</th>\n",
              "      <th>答案</th>\n",
              "    </tr>\n",
              "  </thead>\n",
              "  <tbody>\n",
              "    <tr>\n",
              "      <th>0</th>\n",
              "      <td>校歌為學校（包括小學、中學、大學等）宣告或者規定的代表該校的歌曲。用於體現該校的治學理念、辦...</td>\n",
              "      <td>「虎山雄風飛揚」是「光華國小」學校的校歌歌詞。</td>\n",
              "    </tr>\n",
              "    <tr>\n",
              "      <th>1</th>\n",
              "      <td>2025年初，NCC透過行政命令，規定民眾如果透過境外郵購無線鍵盤、滑鼠、藍芽耳機..等自用...</td>\n",
              "      <td>每案一律加收審查費750元。</td>\n",
              "    </tr>\n",
              "    <tr>\n",
              "      <th>2</th>\n",
              "      <td>第一代 iPhone 是由哪位蘋果 CEO 發表？</td>\n",
              "      <td>第一代 iPhone 是由Steve Jobs（史提夫賈伯斯）發表。</td>\n",
              "    </tr>\n",
              "    <tr>\n",
              "      <th>3</th>\n",
              "      <td>台灣大學進階英文免修申請規定中，托福網路測驗 TOEFL iBT 要達到多少分才能申請？</td>\n",
              "      <td>台灣大學進階英文免修申請規定中，托福網路測驗 TOEFL iBT 72分才能申請</td>\n",
              "    </tr>\n",
              "    <tr>\n",
              "      <th>4</th>\n",
              "      <td>Rugby Union 中觸地 try 可得幾分？</td>\n",
              "      <td>Rugby Union 中觸地 try 可得5分</td>\n",
              "    </tr>\n",
              "  </tbody>\n",
              "</table>\n",
              "</div>\n",
              "    <div class=\"colab-df-buttons\">\n",
              "\n",
              "  <div class=\"colab-df-container\">\n",
              "    <button class=\"colab-df-convert\" onclick=\"convertToInteractive('df-a48a049e-a020-4129-8294-86d22d41d8c2')\"\n",
              "            title=\"Convert this dataframe to an interactive table.\"\n",
              "            style=\"display:none;\">\n",
              "\n",
              "  <svg xmlns=\"http://www.w3.org/2000/svg\" height=\"24px\" viewBox=\"0 -960 960 960\">\n",
              "    <path d=\"M120-120v-720h720v720H120Zm60-500h600v-160H180v160Zm220 220h160v-160H400v160Zm0 220h160v-160H400v160ZM180-400h160v-160H180v160Zm440 0h160v-160H620v160ZM180-180h160v-160H180v160Zm440 0h160v-160H620v160Z\"/>\n",
              "  </svg>\n",
              "    </button>\n",
              "\n",
              "  <style>\n",
              "    .colab-df-container {\n",
              "      display:flex;\n",
              "      gap: 12px;\n",
              "    }\n",
              "\n",
              "    .colab-df-convert {\n",
              "      background-color: #E8F0FE;\n",
              "      border: none;\n",
              "      border-radius: 50%;\n",
              "      cursor: pointer;\n",
              "      display: none;\n",
              "      fill: #1967D2;\n",
              "      height: 32px;\n",
              "      padding: 0 0 0 0;\n",
              "      width: 32px;\n",
              "    }\n",
              "\n",
              "    .colab-df-convert:hover {\n",
              "      background-color: #E2EBFA;\n",
              "      box-shadow: 0px 1px 2px rgba(60, 64, 67, 0.3), 0px 1px 3px 1px rgba(60, 64, 67, 0.15);\n",
              "      fill: #174EA6;\n",
              "    }\n",
              "\n",
              "    .colab-df-buttons div {\n",
              "      margin-bottom: 4px;\n",
              "    }\n",
              "\n",
              "    [theme=dark] .colab-df-convert {\n",
              "      background-color: #3B4455;\n",
              "      fill: #D2E3FC;\n",
              "    }\n",
              "\n",
              "    [theme=dark] .colab-df-convert:hover {\n",
              "      background-color: #434B5C;\n",
              "      box-shadow: 0px 1px 3px 1px rgba(0, 0, 0, 0.15);\n",
              "      filter: drop-shadow(0px 1px 2px rgba(0, 0, 0, 0.3));\n",
              "      fill: #FFFFFF;\n",
              "    }\n",
              "  </style>\n",
              "\n",
              "    <script>\n",
              "      const buttonEl =\n",
              "        document.querySelector('#df-a48a049e-a020-4129-8294-86d22d41d8c2 button.colab-df-convert');\n",
              "      buttonEl.style.display =\n",
              "        google.colab.kernel.accessAllowed ? 'block' : 'none';\n",
              "\n",
              "      async function convertToInteractive(key) {\n",
              "        const element = document.querySelector('#df-a48a049e-a020-4129-8294-86d22d41d8c2');\n",
              "        const dataTable =\n",
              "          await google.colab.kernel.invokeFunction('convertToInteractive',\n",
              "                                                    [key], {});\n",
              "        if (!dataTable) return;\n",
              "\n",
              "        const docLinkHtml = 'Like what you see? Visit the ' +\n",
              "          '<a target=\"_blank\" href=https://colab.research.google.com/notebooks/data_table.ipynb>data table notebook</a>'\n",
              "          + ' to learn more about interactive tables.';\n",
              "        element.innerHTML = '';\n",
              "        dataTable['output_type'] = 'display_data';\n",
              "        await google.colab.output.renderOutput(dataTable, element);\n",
              "        const docLink = document.createElement('div');\n",
              "        docLink.innerHTML = docLinkHtml;\n",
              "        element.appendChild(docLink);\n",
              "      }\n",
              "    </script>\n",
              "  </div>\n",
              "\n",
              "\n",
              "    <div id=\"df-b79f30b5-1d79-4ef2-a389-5a3a74daedf0\">\n",
              "      <button class=\"colab-df-quickchart\" onclick=\"quickchart('df-b79f30b5-1d79-4ef2-a389-5a3a74daedf0')\"\n",
              "                title=\"Suggest charts\"\n",
              "                style=\"display:none;\">\n",
              "\n",
              "<svg xmlns=\"http://www.w3.org/2000/svg\" height=\"24px\"viewBox=\"0 0 24 24\"\n",
              "     width=\"24px\">\n",
              "    <g>\n",
              "        <path d=\"M19 3H5c-1.1 0-2 .9-2 2v14c0 1.1.9 2 2 2h14c1.1 0 2-.9 2-2V5c0-1.1-.9-2-2-2zM9 17H7v-7h2v7zm4 0h-2V7h2v10zm4 0h-2v-4h2v4z\"/>\n",
              "    </g>\n",
              "</svg>\n",
              "      </button>\n",
              "\n",
              "<style>\n",
              "  .colab-df-quickchart {\n",
              "      --bg-color: #E8F0FE;\n",
              "      --fill-color: #1967D2;\n",
              "      --hover-bg-color: #E2EBFA;\n",
              "      --hover-fill-color: #174EA6;\n",
              "      --disabled-fill-color: #AAA;\n",
              "      --disabled-bg-color: #DDD;\n",
              "  }\n",
              "\n",
              "  [theme=dark] .colab-df-quickchart {\n",
              "      --bg-color: #3B4455;\n",
              "      --fill-color: #D2E3FC;\n",
              "      --hover-bg-color: #434B5C;\n",
              "      --hover-fill-color: #FFFFFF;\n",
              "      --disabled-bg-color: #3B4455;\n",
              "      --disabled-fill-color: #666;\n",
              "  }\n",
              "\n",
              "  .colab-df-quickchart {\n",
              "    background-color: var(--bg-color);\n",
              "    border: none;\n",
              "    border-radius: 50%;\n",
              "    cursor: pointer;\n",
              "    display: none;\n",
              "    fill: var(--fill-color);\n",
              "    height: 32px;\n",
              "    padding: 0;\n",
              "    width: 32px;\n",
              "  }\n",
              "\n",
              "  .colab-df-quickchart:hover {\n",
              "    background-color: var(--hover-bg-color);\n",
              "    box-shadow: 0 1px 2px rgba(60, 64, 67, 0.3), 0 1px 3px 1px rgba(60, 64, 67, 0.15);\n",
              "    fill: var(--button-hover-fill-color);\n",
              "  }\n",
              "\n",
              "  .colab-df-quickchart-complete:disabled,\n",
              "  .colab-df-quickchart-complete:disabled:hover {\n",
              "    background-color: var(--disabled-bg-color);\n",
              "    fill: var(--disabled-fill-color);\n",
              "    box-shadow: none;\n",
              "  }\n",
              "\n",
              "  .colab-df-spinner {\n",
              "    border: 2px solid var(--fill-color);\n",
              "    border-color: transparent;\n",
              "    border-bottom-color: var(--fill-color);\n",
              "    animation:\n",
              "      spin 1s steps(1) infinite;\n",
              "  }\n",
              "\n",
              "  @keyframes spin {\n",
              "    0% {\n",
              "      border-color: transparent;\n",
              "      border-bottom-color: var(--fill-color);\n",
              "      border-left-color: var(--fill-color);\n",
              "    }\n",
              "    20% {\n",
              "      border-color: transparent;\n",
              "      border-left-color: var(--fill-color);\n",
              "      border-top-color: var(--fill-color);\n",
              "    }\n",
              "    30% {\n",
              "      border-color: transparent;\n",
              "      border-left-color: var(--fill-color);\n",
              "      border-top-color: var(--fill-color);\n",
              "      border-right-color: var(--fill-color);\n",
              "    }\n",
              "    40% {\n",
              "      border-color: transparent;\n",
              "      border-right-color: var(--fill-color);\n",
              "      border-top-color: var(--fill-color);\n",
              "    }\n",
              "    60% {\n",
              "      border-color: transparent;\n",
              "      border-right-color: var(--fill-color);\n",
              "    }\n",
              "    80% {\n",
              "      border-color: transparent;\n",
              "      border-right-color: var(--fill-color);\n",
              "      border-bottom-color: var(--fill-color);\n",
              "    }\n",
              "    90% {\n",
              "      border-color: transparent;\n",
              "      border-bottom-color: var(--fill-color);\n",
              "    }\n",
              "  }\n",
              "</style>\n",
              "\n",
              "      <script>\n",
              "        async function quickchart(key) {\n",
              "          const quickchartButtonEl =\n",
              "            document.querySelector('#' + key + ' button');\n",
              "          quickchartButtonEl.disabled = true;  // To prevent multiple clicks.\n",
              "          quickchartButtonEl.classList.add('colab-df-spinner');\n",
              "          try {\n",
              "            const charts = await google.colab.kernel.invokeFunction(\n",
              "                'suggestCharts', [key], {});\n",
              "          } catch (error) {\n",
              "            console.error('Error during call to suggestCharts:', error);\n",
              "          }\n",
              "          quickchartButtonEl.classList.remove('colab-df-spinner');\n",
              "          quickchartButtonEl.classList.add('colab-df-quickchart-complete');\n",
              "        }\n",
              "        (() => {\n",
              "          let quickchartButtonEl =\n",
              "            document.querySelector('#df-b79f30b5-1d79-4ef2-a389-5a3a74daedf0 button');\n",
              "          quickchartButtonEl.style.display =\n",
              "            google.colab.kernel.accessAllowed ? 'block' : 'none';\n",
              "        })();\n",
              "      </script>\n",
              "    </div>\n",
              "\n",
              "    </div>\n",
              "  </div>\n"
            ],
            "text/plain": [
              "                                                  问题  \\\n",
              "0  校歌為學校（包括小學、中學、大學等）宣告或者規定的代表該校的歌曲。用於體現該校的治學理念、辦...   \n",
              "1  2025年初，NCC透過行政命令，規定民眾如果透過境外郵購無線鍵盤、滑鼠、藍芽耳機..等自用...   \n",
              "2                          第一代 iPhone 是由哪位蘋果 CEO 發表？   \n",
              "3       台灣大學進階英文免修申請規定中，托福網路測驗 TOEFL iBT 要達到多少分才能申請？   \n",
              "4                          Rugby Union 中觸地 try 可得幾分？   \n",
              "\n",
              "                                         答案  \n",
              "0                   「虎山雄風飛揚」是「光華國小」學校的校歌歌詞。  \n",
              "1                            每案一律加收審查費750元。  \n",
              "2        第一代 iPhone 是由Steve Jobs（史提夫賈伯斯）發表。  \n",
              "3  台灣大學進階英文免修申請規定中，托福網路測驗 TOEFL iBT 72分才能申請  \n",
              "4                  Rugby Union 中觸地 try 可得5分  "
            ]
          },
          "execution_count": 10,
          "metadata": {},
          "output_type": "execute_result"
        }
      ],
      "source": [
        "df.head()"
      ]
    },
    {
      "cell_type": "code",
      "execution_count": null,
      "metadata": {
        "colab": {
          "base_uri": "https://localhost:8080/"
        },
        "id": "NKBz0JRYuXBg",
        "outputId": "32108523-0c7a-4572-a6df-f669104a0009"
      },
      "outputs": [
        {
          "name": "stdout",
          "output_type": "stream",
          "text": [
            "67 根據資料1，2024年世界棒球12強賽的冠軍是中華台北代表隊。\n",
            "68 根據提供的資料，中國四大奇書是指《水滸傳》、《三國演義》，以及另外兩本小說。然而，這裡有個問題：在明代時期，被稱為「four 大 奇 曲」的小説包括了 《金瓶梅 》和西遊記，但是在清朝後來被取而替換的是《紅樓夢》。  因此，根據資料，我們可以得出以下的答案：  中國四大奇書是指： 1. 水滸傳 2._三國演義_ 3.._金瓶梅》 4 ._西遊記_  然而，這裡有個問題：在清朝後來被取而替換的是《紅樓夢》。\n",
            "69 根據資料1，子時是從23點到01時間。因此，如果用24小时制表示，那就是：  * 子初：00:0000 （夜半） 至： 丑正 02 :  (鸡鸣)  所以，在12小时和20四个时间段中，我们可以看到，从晚上11点开始，子時是从23點到01時間。\n",
            "70 根據提供的資料，避免錯過時限來完成任務的是Deadlinescheduler（截止日期排程器）。這種演算法基於EarliestDeadlineFirst (EDF) 的原理，即將優先權給予那些最早需要結束時間點(task deadline）的程序。\n",
            "71 根據《刀劍神域》原作中的資料，代號「C8763」是由黑雪姬持有。\n",
            "72 根據資料1中的描述，「柴城」位於現今的屏東車市，是恆春半島最早開發的地方。\n",
            "73 根據資料中提供的資訊，若要使用 A100 高級 GPU，在 Google Colab 的訂閱制 中需要購買 \"Colaboratory Pro+\" 計畫。\n",
            "74 根據資料1，李宏毅老師是電機工程學系教授，他開設的「生成式人工智慧導論」課程屬於台大文學院特別邀請外部教員為其跨域選修。\n",
            "75 根據網頁資料，我們無法直接找到關於雪江學生簽減免申請書的相關資訊。然而，基礎上來說，大三（通常指的是大學三年級）是大多數國家教育系統中的一個階段。  如果我們假設問題與一般的情況有所相似，那麼在許多少種情形下，一般學生需要達到一定的成績標準才不用簽減免申請書。然而，這些資訊並未出現在網頁資料上，因此無法給予具體答案。  如果你能夠提供更多關於雪江大學或相關政策的情況，我們可能會有更好的回答能力，幫助您解答這個問題！\n",
            "76 根據資料1，Neuro-sama 的最初 Live2D 模型是使用 \"桃瀨日和／ 桃瀬ひより\" 這個角色。\n",
            "77 根據資料1和2，劫持愛蜜莉雅並想取其為妻的人是雷古勒斯・柯尼亞士（Re:從零開始的異世界生活第三季第12話集中討論串）。\n",
            "78 對不起，我無法找到網頁資料。\n",
            "79 根據資料1和3，玉米屬於單子葉植物。它的特徵包括：  * 種子的外層有種皮 * 子叶只有一个，不像雙子の花卉那样具有两个或更多个。 而向日葛則是双孢草科的一年生灌木，是一种典型代表性的单子葉植物。\n",
            "80 根據資料1，中華民國陸軍的 軍歌前六字 是：  \"風雲起,山河動\"  這是《黃埔建军声势雄》一曲中的開頭幾句。\n",
            "81 根據提供的資料，我們可以看到台大的電資學院有幾個系，包括物理學研究所、化工與材料科工程所和生物科技研究中心等。  然而，並沒有明確指出哪一個系統規定只需修習一門課程即可。\n",
            "82 根據網頁資料，我們可以得出以下結論：  憂傷湖（Lacus Doloris）、死海 （Morti s） 、忘 湖 ( Oblivion i) ，以及恐怖 Lake   Timoris ）和愛灣 Sinus Amori 是月球背側的地形，不面對地球。  這些名稱與 Ave Mujica 五人代號相關聯，可能暗示著某種特殊關係或符誌。\n",
            "83 貝多芬的《C♯小調第14號鋼琴奏鳴曲》是一首非常著名和受歡迎的小提籃作品。它被稱為「月光鈴」，因其第一樂章中那個美妙而夢幻般的情景，讓人聯想到一支在夜晚的庭院裡飄蕩起來、輕柔地敲打著玻璃窗上的水滸。  這首奏鳴曲是貝多芬的一部經典作品，被認為是一種代表了浪漫主義音樂風格和情感表達力的傑作。它以其優美的旋律，深刻的情緒以及對人類心靈世界探索的心理洞察力而聞名。  在這首奏鳴曲中，最著眼的是第一樂章中的那個令人難忘的小提籃段落，它被稱為「月光鈴」。它是一種簡單、優美的旋律，讓人聯想到一支輕柔地敲打玻璃窗上的水滸。這首小調是如此之好聽，以至於許多音樂愛好的朋友都會將其作爺記憶中的一個重要部分。  因此，這部奏鳴曲被認為是一種代表了浪漫主義精神和情感表達力的傑出作品，讓人們對貝度芬的創造力深有所知。\n",
            "84 阿米斯音樂節的舉辦者是舒美恩（Suming）以及都蘭部落族人。\n",
            "85 根據資料1和3，Poppy Playtime - Chapter 4 遊戲中出現的黏土人叫做 HuggyWuffy。\n",
            "86 根據資料1，DjunmulJ 在排灣族語裡是一個意思是「雨沐」的名稱。\n",
            "87 根據資料，米開朗基羅創作的《大衛》雕像最初是在佛罗伦萨美术学院（Accademia di Belle Arti）展出其藝術成就。\n",
            "88 根據資料1和2，中華民國軍階中的最高級將領除了蔣介石外，是一、二、三等上将。其中，一级上的军官包括：  * 閻錫山 馮玉祥  張學良   何應欽    李宗仁     朱培德      唐生智       陳濟棠        劉湘         曹锟          程潛           吳佩孚            宋哲元             陈调 元              白崇禧                陳誠                 刘永耀                周至柔                  徐 永昌                    薇岳                     顏祝同                      桂 連清                       王叔铭                         彊 孝緣                        郑介民                          黄杰                           黃鎮球                            胡宗南                             朱紹良                              余漢謀                                黎玉璽                                  高魁元劉 玉章                                二级上的军官包括：  * 陈绍宽 刘湘（追晋） 曹锟 （ 迎贈 ） 程潛   吳佩孚  ( 進貢 ) 宋哲 元  　( 獵進 )  陈调元   　 白崇禧      陳誠         劉永耀        周至柔          徐 永昌           薇岳             顏祝同            桂連清              王叔铭               彊 孝緣                郑介民                  黄杰                    黃鎮球                     胡宗南                      朱紹良                       余漢謀                         黎玉璽                           高魁元                             劉 玉章                             三等上的军官包括：  * 陈绍宽 刘湘（追晋） 曹锟 （ 迎贈 ） 程潛   吳佩孚  ( 進貢 ) 宋哲 元  　( 獵進 )  陈调元   　 白崇禧      陳誠         劉永耀        周至柔          徐 永昌           薇岳             顏祝同            桂連清              王叔铭               彊 孝緣                郑介民                  黄杰                    黃鎮球                     胡宗南                      朱紹良                       余漢謀                         黎玉璽                           高魁元                             劉 玉章                             请注意，这些军官的名单可能不完整，因为资料来源有限。\n",
            "89 根據網頁資料，2012年第二賽季世界大赛的總冠軍是台北暗殺星（Taipei Assassins），他們在決勝戰中以3:1擊敗韓國隊伍Azubu Frost。\n",
            "90 在日本麻將中，非莊家一開始的手牌有 13 張。\n"
          ]
        }
      ],
      "source": [
        "from pathlib import Path\n",
        "\n",
        "# PREFIX = \"test\" # simple baseline\n",
        "# PREFIX = \"rag\" # medium baseline\n",
        "PREFIX = \"system\" # strong baseline\n",
        "\n",
        "for idx, row in df.iterrows():\n",
        "    question = row['问题']\n",
        "    # answer   = row['答案']\n",
        "    # print(f\"{idx + 1} | 问题: {question} | 答案: {answer}\")\n",
        "    if Path(f\"./{PREFIX}_{idx + 1}.txt\").exists():\n",
        "            continue\n",
        "    answer = await pipeline(question)\n",
        "    answer = answer.replace('\\n',' ')\n",
        "    print(idx + 1, answer)\n",
        "    with open(f'./{PREFIX}_{idx + 1}.txt', 'w') as output_f:\n",
        "        print(answer, file=output_f)"
      ]
    },
    {
      "cell_type": "code",
      "execution_count": null,
      "metadata": {
        "id": "HLbcE7E27zeR"
      },
      "outputs": [],
      "source": [
        "# Combine the results into one file.\n",
        "with open(f'./{PREFIX}.txt', 'w') as output_f:\n",
        "    for id in range(1,91):\n",
        "        with open(f'./{PREFIX}_{id}.txt', 'r') as input_f:\n",
        "            answer = input_f.readline().strip()\n",
        "            print(answer, file=output_f)"
      ]
    },
    {
      "cell_type": "markdown",
      "metadata": {
        "id": "1oD7XgWT8Kgp"
      },
      "source": [
        "## Evaluation\n",
        "Using gemini api to evaluate the correctness of answers."
      ]
    },
    {
      "cell_type": "code",
      "execution_count": null,
      "metadata": {
        "colab": {
          "base_uri": "https://localhost:8080/",
          "height": 1000
        },
        "id": "Hbd3-nWdCO6Y",
        "outputId": "3c9ef18b-4895-4074-c035-ba257c397c32"
      },
      "outputs": [
        {
          "name": "stdout",
          "output_type": "stream",
          "text": [
            "models/embedding-gecko-001 ['embedText', 'countTextTokens']\n",
            "models/gemini-1.0-pro-vision-latest ['generateContent', 'countTokens']\n",
            "models/gemini-pro-vision ['generateContent', 'countTokens']\n",
            "models/gemini-1.5-pro-latest ['generateContent', 'countTokens']\n",
            "models/gemini-1.5-pro-002 ['generateContent', 'countTokens', 'createCachedContent']\n",
            "models/gemini-1.5-pro ['generateContent', 'countTokens']\n",
            "models/gemini-1.5-flash-latest ['generateContent', 'countTokens']\n",
            "models/gemini-1.5-flash ['generateContent', 'countTokens']\n",
            "models/gemini-1.5-flash-002 ['generateContent', 'countTokens', 'createCachedContent']\n",
            "models/gemini-1.5-flash-8b ['createCachedContent', 'generateContent', 'countTokens']\n",
            "models/gemini-1.5-flash-8b-001 ['createCachedContent', 'generateContent', 'countTokens']\n",
            "models/gemini-1.5-flash-8b-latest ['createCachedContent', 'generateContent', 'countTokens']\n",
            "models/gemini-2.5-pro-preview-03-25 ['generateContent', 'countTokens', 'createCachedContent', 'batchGenerateContent']\n",
            "models/gemini-2.5-flash-preview-05-20 ['generateContent', 'countTokens', 'createCachedContent', 'batchGenerateContent']\n",
            "models/gemini-2.5-flash ['generateContent', 'countTokens', 'createCachedContent', 'batchGenerateContent']\n",
            "models/gemini-2.5-flash-lite-preview-06-17 ['generateContent', 'countTokens', 'createCachedContent', 'batchGenerateContent']\n",
            "models/gemini-2.5-pro-preview-05-06 ['generateContent', 'countTokens', 'createCachedContent', 'batchGenerateContent']\n",
            "models/gemini-2.5-pro-preview-06-05 ['generateContent', 'countTokens', 'createCachedContent', 'batchGenerateContent']\n",
            "models/gemini-2.5-pro ['generateContent', 'countTokens', 'createCachedContent', 'batchGenerateContent']\n",
            "models/gemini-2.0-flash-exp ['generateContent', 'countTokens', 'bidiGenerateContent']\n",
            "models/gemini-2.0-flash ['generateContent', 'countTokens', 'createCachedContent', 'batchGenerateContent']\n",
            "models/gemini-2.0-flash-001 ['generateContent', 'countTokens', 'createCachedContent', 'batchGenerateContent']\n",
            "models/gemini-2.0-flash-lite-001 ['generateContent', 'countTokens', 'createCachedContent', 'batchGenerateContent']\n",
            "models/gemini-2.0-flash-lite ['generateContent', 'countTokens', 'createCachedContent', 'batchGenerateContent']\n",
            "models/gemini-2.0-flash-lite-preview-02-05 ['generateContent', 'countTokens', 'createCachedContent', 'batchGenerateContent']\n",
            "models/gemini-2.0-flash-lite-preview ['generateContent', 'countTokens', 'createCachedContent', 'batchGenerateContent']\n",
            "models/gemini-2.0-pro-exp ['generateContent', 'countTokens', 'createCachedContent', 'batchGenerateContent']\n",
            "models/gemini-2.0-pro-exp-02-05 ['generateContent', 'countTokens', 'createCachedContent', 'batchGenerateContent']\n",
            "models/gemini-exp-1206 ['generateContent', 'countTokens', 'createCachedContent', 'batchGenerateContent']\n",
            "models/gemini-2.0-flash-thinking-exp-01-21 ['generateContent', 'countTokens', 'createCachedContent', 'batchGenerateContent']\n",
            "models/gemini-2.0-flash-thinking-exp ['generateContent', 'countTokens', 'createCachedContent', 'batchGenerateContent']\n",
            "models/gemini-2.0-flash-thinking-exp-1219 ['generateContent', 'countTokens', 'createCachedContent', 'batchGenerateContent']\n",
            "models/gemini-2.5-flash-preview-tts ['countTokens', 'generateContent']\n",
            "models/gemini-2.5-pro-preview-tts ['countTokens', 'generateContent']\n",
            "models/learnlm-2.0-flash-experimental ['generateContent', 'countTokens']\n",
            "models/gemma-3-1b-it ['generateContent', 'countTokens']\n",
            "models/gemma-3-4b-it ['generateContent', 'countTokens']\n",
            "models/gemma-3-12b-it ['generateContent', 'countTokens']\n",
            "models/gemma-3-27b-it ['generateContent', 'countTokens']\n",
            "models/gemma-3n-e4b-it ['generateContent', 'countTokens']\n",
            "models/gemma-3n-e2b-it ['generateContent', 'countTokens']\n",
            "models/gemini-2.5-flash-lite ['generateContent', 'countTokens', 'createCachedContent', 'batchGenerateContent']\n",
            "models/embedding-001 ['embedContent']\n",
            "models/text-embedding-004 ['embedContent']\n",
            "models/gemini-embedding-exp-03-07 ['embedContent', 'countTextTokens', 'countTokens']\n",
            "models/gemini-embedding-exp ['embedContent', 'countTextTokens', 'countTokens']\n",
            "models/gemini-embedding-001 ['embedContent', 'countTextTokens', 'countTokens']\n",
            "models/aqa ['generateAnswer']\n",
            "models/imagen-3.0-generate-002 ['predict']\n",
            "models/imagen-4.0-generate-preview-06-06 ['predict']\n",
            "models/imagen-4.0-ultra-generate-preview-06-06 ['predict']\n",
            "models/veo-2.0-generate-001 ['predictLongRunning']\n",
            "models/veo-3.0-generate-preview ['predictLongRunning']\n",
            "models/gemini-2.5-flash-preview-native-audio-dialog ['countTokens', 'bidiGenerateContent']\n",
            "models/gemini-2.5-flash-exp-native-audio-thinking-dialog ['countTokens', 'bidiGenerateContent']\n",
            "models/gemini-2.0-flash-live-001 ['bidiGenerateContent', 'countTokens']\n",
            "models/gemini-live-2.5-flash-preview ['bidiGenerateContent', 'countTokens']\n",
            "models/gemini-2.5-flash-live-preview ['bidiGenerateContent', 'countTokens']\n"
          ]
        }
      ],
      "source": [
        "# Check model list\n",
        "import google.generativeai as genai\n",
        "\n",
        "GEMINI_API_KEY=\"\"\n",
        "genai.configure(api_key=GEMINI_API_KEY)\n",
        "\n",
        "models = genai.list_models()\n",
        "for m in models:\n",
        "    print(m.name, m.supported_generation_methods)\n"
      ]
    },
    {
      "cell_type": "code",
      "execution_count": null,
      "metadata": {
        "colab": {
          "base_uri": "https://localhost:8080/",
          "height": 747
        },
        "id": "lVvNZS6qENnz",
        "outputId": "7bf59614-4e6a-48cc-c91f-7e6c4cb29516"
      },
      "outputs": [
        {
          "name": "stdout",
          "output_type": "stream",
          "text": [
            "量子纏結（Quantum Entanglement）是量子力學中最奇特、最反直覺的現象之一，連愛因斯坦都曾稱之為「鬼魅般的超距作用」（spooky action at a distance）。\n",
            "\n",
            "簡單來說，量子纏結是指當兩個或多個粒子（例如光子、電子等）以某種特殊方式關聯時，即使它們相隔遙遠，甚至在宇宙的兩端，它們的狀態依然是相互依存的，彷彿它們之間存在著某種看不見的瞬時連接。\n",
            "\n",
            "**核心概念和特點：**\n",
            "\n",
            "1.  **非局部關聯：**\n",
            "    *   當粒子處於纏結狀態時，它們不再擁有獨立的、確定的屬性（例如自旋、極化、能量等）。\n",
            "    *   相反，它們的屬性是相互關聯的，形成一個統一的整體。\n",
            "    *   這種關聯是「非局部性」的，意味著它不受空間距離的限制。無論粒子相距多遠，它們之間的這種聯繫都是即時的。\n",
            "\n",
            "2.  **狀態的不確定性與瞬時確定：**\n",
            "    *   在被測量之前，纏結粒子本身的具體狀態是不確定的，它們處於一種「疊加態」中（即同時存在於多種可能狀態）。\n",
            "    *   然而，一旦對其中一個纏結粒子進行測量，其結果會立即（瞬時）影響到另一個纏結粒子，使其狀態也隨之確定下來。\n",
            "    *   例如，如果兩個纏結的光子，一個被測量到是垂直偏振，那麼即使另一個光子遠在天邊，你也會立刻知道它一定是水平偏振（如果它們被纏結為反向偏振）。\n",
            "\n",
            "3.  **無法超光速通訊：**\n",
            "    *   儘管這種影響是瞬時的，看似能夠傳遞資訊的速度超過光速，但它實際上**無法**用來實現超光速通訊。\n",
            "    *   原因是發送方無法控制測量的結果（因為測量本身是隨機的），接收方也無法從中提取有意義的資訊。你只能確定另一個粒子的狀態，但無法選擇它會是哪種狀態。這就像你和朋友各有一雙纏結的襪子（一隻左，一隻右），當你看到自己的是左襪時，立即知道朋友的是右襪，但你無法決定自己看到的是左還是右，也無法透過這種方式向朋友發送訊息。\n",
            "\n",
            "**一個比喻（雖然不完全精確，但有助於理解）：**\n",
            "\n",
            "想像你有兩個特殊的硬幣，它們被「纏結」在一起。在你拋擲它們之前，你不知道每個硬幣是正面還是反面，甚至它們可能都不是確定的狀態。但它們之間存在一個規則：如果一個是正面，另一個就一定是反面。\n",
            "\n",
            "現在，你和你的朋友各拿一個纏結的硬幣，你們相隔很遠。當你拋擲你手中的硬幣，假設它顯示的是「正面」，那麼即使你的朋友沒有看到你的硬幣，你也立即知道他手中的那個硬幣一定是「反面」。這種關係是瞬時確定的，無論你們相隔多遠。\n",
            "\n",
            "與普通硬幣不同的是，在量子纏結中，這種「正」和「反」的關係並不是預先就決定好的，而是在你進行測量（拋擲）的那一刻才被「確定」下來的。在測量之前，它們的狀態都是不確定的疊加態。\n",
            "\n",
            "**重要性與應用：**\n",
            "\n",
            "量子纏結是量子力學最核心、最反直覺的特徵之一，挑戰了我們對現實和因果關係的傳統理解。它不僅是基礎物理學研究的重點，也在許多新興的量子技術中扮演關鍵角色：\n",
            "\n",
            "*   **量子計算（Quantum Computing）：** 量子位元（qubits）間的纏結是實現量子並行運算和糾錯的基礎，能處理傳統電腦無法解決的複雜問題。\n",
            "*   **量子通訊（Quantum Communication）：** 如量子密鑰分發（Quantum Key Distribution, QKD），利用纏結的特性來確保通訊的絕對安全，理論上不可被竊聽。\n",
            "*   **量子傳輸（Quantum Teleportation）：** 雖然不是傳送物質本身，但可以將一個粒子的量子狀態從一個地方精確地傳輸到另一個地方。\n",
            "*   **量子感測（Quantum Sensing）：** 利用纏結態來提高測量的精度和靈敏度。\n",
            "\n",
            "總而言之，量子纏結是一種超越我們日常經驗的奇特現象，它揭示了微觀世界的深層聯繫，並為未來的科技發展開闢了無限可能。\n"
          ]
        }
      ],
      "source": [
        "# Test Gemini API\n",
        "\n",
        "import google.generativeai as genai\n",
        "\n",
        "GEMINI_API_KEY=\"\"\n",
        "genai.configure(api_key=GEMINI_API_KEY)\n",
        "\n",
        "# 使用 Gemini 1.5 Pro 模型\n",
        "# model = genai.GenerativeModel(model_name=\"gemini-1.5-pro\")\n",
        "model = genai.GenerativeModel(model_name=\"gemini-2.5-flash\")\n",
        "\n",
        "\n",
        "prompt = \"請用繁體中文解釋什麼是量子纏結。\"\n",
        "response = model.generate_content(prompt)\n",
        "\n",
        "print(response.text)\n"
      ]
    },
    {
      "cell_type": "code",
      "execution_count": null,
      "metadata": {
        "id": "6pJ6WScyHpPm"
      },
      "outputs": [],
      "source": [
        "import google.generativeai as genai\n",
        "\n",
        "# ✅ 设置 API key\n",
        "GEMINI_API_KEY=\"\"\n",
        "genai.configure(api_key=GEMINI_API_KEY)\n",
        "\n",
        "# ✅ 初始化模型\n",
        "model = genai.GenerativeModel(model_name=\"gemini-2.5-flash\")\n",
        "\n",
        "# ✅ 评估函数\n",
        "def evaluate_qa(question, gt_answer, pred_answer):\n",
        "    prompt = f\"\"\"\n",
        "你是一个严谨的评测专家，请判断以下问题的两个答案是否一致，并给出 1~5 分评分与简短评语：\n",
        "\n",
        "【问题】\n",
        "{question}\n",
        "\n",
        "【标准答案】\n",
        "{gt_answer}\n",
        "\n",
        "【学生回答】\n",
        "{pred_answer}\n",
        "\n",
        "评分范围：\n",
        "5 = 完全正确；\n",
        "4 = 大致正确，略有差异；\n",
        "3 = 一般正确，有部分缺漏；\n",
        "2 = 有重大偏差；\n",
        "1 = 完全错误。\n",
        "\n",
        "請用如下格式回答：\n",
        "分數: X\n",
        "評語: Y\n",
        "\"\"\"\n",
        "\n",
        "    response = model.generate_content(prompt)\n",
        "    try:\n",
        "      content = response.text\n",
        "    except ValueError:\n",
        "        print(\"[模型未返回有效內容]\")\n",
        "        print(\"finish_reason:\", response.candidates[0].finish_reason)\n",
        "    return response.text\n"
      ]
    },
    {
      "cell_type": "code",
      "execution_count": null,
      "metadata": {
        "id": "e5YoQc33KHaH"
      },
      "outputs": [],
      "source": [
        "# 测试评估函数\n",
        "question = \"什麼是量子糾纏？\"\n",
        "gt_answer = \"量子糾纏是指兩個或多個粒子的量子態彼此關聯，即使它們距離遙遠，也能瞬間影響彼此。\"\n",
        "pred_answer = \"量子糾纏是一種物理現象，兩個粒子會互相感應，即使在宇宙兩端也會同步改變。\"\n",
        "\n",
        "print(evaluate_qa(question, gt_answer, pred_answer))\n"
      ]
    },
    {
      "cell_type": "code",
      "execution_count": null,
      "metadata": {
        "colab": {
          "base_uri": "https://localhost:8080/",
          "height": 1000
        },
        "id": "ZeqRTM8uMgDo",
        "outputId": "31e00fa6-8b42-41fe-e8ba-956d49f5a457"
      },
      "outputs": [
        {
          "name": "stdout",
          "output_type": "stream",
          "text": [
            "问题1：校歌為學校（包括小學、中學、大學等）宣告或者規定的代表該校的歌曲。用於體現該校的治學理念、辦學理想等學校文化。「虎山雄風飛揚」是哪間學校的校歌歌詞？\n",
            "分數: 5\n",
            "評語: 學生回答提供了完全正確的答案，精確指出了校歌歌詞所屬的學校。雖然表達方式與標準答案略有不同，但核心信息完全一致且正確無誤。\n",
            "问题2：2025年初，NCC透過行政命令，規定民眾如果透過境外郵購無線鍵盤、滑鼠、藍芽耳機..等自用產品回台，每案一律加收審查費多少錢？\n",
            "分數: 4\n",
            "評語: 学生回答与标准答案的核心信息（750元）完全一致，且很好地复述了问题中的关键背景信息。唯一瑕疵是“鍑盘”的笔误，应为“键盘”，但这不影响对核心答案的判断，故评为大致正确。\n",
            "问题3：第一代 iPhone 是由哪位蘋果 CEO 發表？\n",
            "分數: 5\n",
            "評語: 兩個答案都正確指出了第一代 iPhone 是由史蒂夫·乔布斯（Steve Jobs）發表。主要差異在於中文譯名的繁簡體（史提夫賈伯斯 vs 史蒂夫·乔布斯），以及學生回答中添加了信息來源說明，這些都不影響答案的正確性。兩者內容高度一致，可視為完全正確。\n",
            "问题4：台灣大學進階英文免修申請規定中，托福網路測驗 TOEFL iBT 要達到多少分才能申請？\n",
            "分數: 2\n",
            "評語: 学生回答的主题和考试类型是正确的，但在具体分数要求上与标准答案存在明显差异。标准答案为72分，而学生回答为78分以上，这个分数上的偏差属于关键信息错误。\n",
            "问题5：Rugby Union 中觸地 try 可得幾分？\n",
            "分數: 5\n",
            "評語: 学生的回答与标准答案在核心信息（触地try可得5分）上完全一致，表达准确无误。虽然学生回答中包含了“根據提供的資料”这一句，但这并未改变答案本身的正确性或与标准答案的一致性。\n",
            "问题6：卑南族是位在臺東平原的一個原住民族，以驍勇善戰、擅長巫術聞名，曾經統治整個臺東平原。相傳卑南族的祖先發源自 ruvuwa'an，該地位於現今的哪個行政區劃？\n",
            "分數: 3\n",
            "評語: 學生答案正確指出了縣級行政區劃（臺東縣），但未能進一步提供更具體的鄉級行政區劃（太麻里鄉），與標準答案的完整性有部分缺漏。\n",
            "问题7：熊信寬，藝名熊仔，是臺灣饒舌創作歌手。2022年獲得第33屆金曲獎最佳作詞人獎，2023年獲得第34屆金曲獎最佳華語專輯獎。請問熊仔的碩班指導教授為？\n",
            "分數: 5\n",
            "評語: 學生回答完整且正確地提供了熊仔的碩班指導教授姓名，與標準答案一致。額外說明資訊來源「根據網頁資料」並不影響答案的正確性與完整度。\n",
            "问题8：請問誰發現了電磁感應定律，並奠定了電磁學的重要基礎？\n",
            "分數: 4\n",
            "評語: 學生回答的核心內容「麥可·法拉第是發現電磁感應定律的人」與標準答案完全一致，並提供了正確的時間點（1831年）。這部分回答精確地回答了問題。然而，學生在後續對「電動勢」、「磁通率」、「電磁感應定律」和「馬克士威-法拉第方程」的詳細闡述中，存在概念混淆、描述不準確甚至錯誤的情況（特別是關於「力」、「電子流動」和「能耗」的重複性描述）。儘管主體正確，但這些錯誤的詳細闡述拉低了整體回答的質量。綜合來看，主要信息正確，但附加信息有明顯瑕疵，符合「大致正確，略有差異」的標準。\n",
            "问题9：臺灣東部第一座國家級博物館—「國立臺灣史前文化博物館」，源自於卑南文化遺址的發現。博物館擁有世界級建築設計與豐富的展品。請問距離國立臺灣史前文化博物館最近的臺鐵車站為？\n",
            "分數: 5\n",
            "評語: 学生回答与标准答案在核心信息上完全一致，准确指出了康樂車站是最近的臺鐵車站。虽然表述方式略有不同，但内容完全正确且完整。\n",
            "问题10：20+30=?\n",
            "分數: 2\n",
            "評語: 學生回答一開始提到了「50是一個自然數」，間接確認了答案的數值，但沒有直接給出「20+30=50」這個算式結果，這是回答問題的重點缺失。隨後大部分內容都是關於數字50（或5）的各種不相關的描述、事實（部分甚至錯誤）以及宗教意義，與簡單的加法運算完全無關。這顯示出對問題的理解存在重大偏差，未能直接且簡潔地回答核心問題。\n",
            "问题11：在NBA 2025年的交易大限前，達拉斯獨行俠隊的當家球星Luka Doncic被交易至聯盟中的哪一隊？\n",
            "分數: 5\n",
            "評語: 学生回答与标准答案完全一致，准确提供了问题所需的核心信息（Luka Doncic在2025年被交易至洛杉矶湖人队）。虽然学生回答的表述更详细，但核心内容与标准答案完全吻合，且补充了原问题中的信息，使其表达更完整。\n",
            "问题12：請問2024年美國總統大選的勝選人是誰？\n",
            "分數: 2\n",
            "評語: 兩個答案在指名勝選人方面保持一致，但最核心的問題是：2024年美國總統大選尚未舉行。因此，目前不可能有已確定的勝選人。兩個答案均提供了錯誤且臆測性的信息，這屬於嚴重的基本事實錯誤。\n",
            "问题13：Meta 的 Llama-3.2 系列模型中，參數量最小的模型是多少 Billion 的參數？\n",
            "分數: 3\n",
            "評語: 学生回答中包含正确的最小参数量 \"1B\"，但同时错误地包含了 \"11B\"，使得对“最小”的判断不准确。问题明确要求“最小的模型是多少”，而“1B 和 11B”作为“最小”的答案存在逻辑错误，未能准确识别唯一的最小模型。\n",
            "问题14：停修是指在學期中，學生因為各式因素認為無法繼續修習某一門課時，可以向學校申請停修。與學期初選課退選不同，停修有更嚴格的限制。依據國立臺灣大學學則，在沒有學生報告書的情況下，學生每學期至多停修幾門課程？\n",
            "分數: 5\n",
            "評語: 学生回答与标准答案在核心信息、条件限定及最终结果上完全一致，用词虽略有不同，但表达意思完全相同且准确。\n",
            "问题15：DeepSeek公司的母公司是？\n",
            "分數: 4\n",
            "評語: 學生回答中的中文公司名稱「幻方量化」是完全正確的，與標準答案一致。但是，其提供的英文名稱「Fantex Quantization」與標準答案的「High-Flyer」不同，且「High-Flyer」是幻方量化的官方英文名稱。「Fantex Quantization」更像是字面翻譯而非官方名稱。考慮到核心信息（中文公司名）是正確的，但英文名稱存在細微但重要的不準確，因此評為「大致正確，略有差異」。\n",
            "问题16：2024年NBA的總冠軍隊伍是哪一隊？\n",
            "分數: 5\n",
            "評語: 学生回答准确地指出了2024年NBA总冠军队伍是波士顿凯尔特人，与标准答案的核心信息完全一致。此外，学生回答还提供了详细且正确的补充信息，包括对手、系列赛比分以及队史意义，这些额外信息丰富了答案但无任何错误。信息完整且无误，展现了对事件的全面了解。\n",
            "问题17：一個碳氫化合物分子中有碳原子與碳原子形成三鍵，此類化合物稱為什麼？\n",
            "分數: 1\n",
            "評語: 学生对“三键”的含义及其对应的化合物分类存在根本性误解。答案中提及的“三元体”、“烷类”以及“伯、仲、叔、季”等概念均与题目所询问的含有碳-碳三键的碳氢化合物分类无关。标准答案“炔类”是唯一正确且直接的答案，学生回答完全偏离主题且内容错误。\n",
            "问题18：請問被譽為「計算機科學之父」，提出圖靈機概念、為現代計算理論奠定基礎的人是誰？\n",
            "分數: 4\n",
            "評語: 學生回答的核心信息（艾倫·圖靈）與標準答案完全一致，並提供了更為詳盡且大部分準確的背景資訊，如提出年份和論文名稱。唯一的瑕疵是「« 图林 मशिन »」的表述不常見且不準確，圖靈機的標準中文譯名即為「圖靈機」。這是一個細節上的小錯誤，但不影響對主要問題的準確回答。\n",
            "问题19：手持七星劍、披髮赤足、腳踏蛇龜的玄天上帝，俗稱為「上帝公、上帝爺公、上帝爺、帝爺公」，據傳是北極玄武星君之化身，擁有消災解厄的神力。臺灣玄天上帝信仰的進香中心位於哪個行政區劃內？請回答縣市及鄉鎮市區。\n",
            "分數: 4\n",
            "評語: 學生回答的核心資訊「南投縣名間鄉」與標準答案完全一致且正確。額外提供了「松山村」的資訊，這超出了問題要求的「縣市及鄉鎮市區」範疇，雖然更精確，但非題目所限。開頭的「根據網頁資料」和將「進香中心」替換為「信仰中心」的表達，雖不影響答案的實質正確性，但不如標準答案精準和簡潔。整體而言，答案準確無誤，但略有細節超出要求，且表達上不如標準答案精簡。\n",
            "问题20：Windows 作業系統是哪間科技公司的產品？\n",
            "分數: 5\n",
            "評語: 學生回答與標準答案的核心資訊完全一致，都準確指出是「微軟（Microsoft）」公司。學生回答中額外提及「根據網頁資料」不影響答案的正確性與一致性。因此，答案完全正確。\n",
            "问题21：官將首，是一種傳統信仰文化的陣頭，經常被大眾與八家將混淆。八家將是經由福州傳衍來臺，而官將首是臺灣所創立，主要任務都是擔任主神的駕前侍衛，在迎神活動中負責保護主神、押煞之職能。請問官將首起源自哪間廟宇？\n",
            "分數: 5\n",
            "評語: 學生回答與標準答案完全一致，並補充了更完整的行政區劃資訊（新北市），精確無誤。\n",
            "问题22：臺灣電影《咒》講述一位單親媽媽受邪神詛咒的故事。邪神一詞常用来形容邪惡的神靈或力量，常被比喻為邪惡勢力或具有破壞性、危險性的人或事物。請問《咒》的邪神名為？\n",
            "分數: 5\n",
            "評語: 学生回答与标准答案的核心信息完全一致，准确地指出了邪神的名字。学生额外增加了「根据《咒》的剧情」这一引入语，这使得答案的表述更为完整和清晰，且不影响其准确性，因此判定为完全正确。\n",
            "问题23：「如果你朋友唱歌沒有跑調，一定是他的伴侶跑掉了」是一句用來形容失戀之人唱歌模樣的網路笑話。「短暫交會的旅程就此分岔」是哪個歌唱團體歌曲中的歌詞？\n",
            "分數: 1\n",
            "評語: 學生回答未能識別出正確的歌唱團體「動力火車」，並明確表示「無法找到相關資訊」，這與標準答案提供的精確信息完全不符。後續的解釋和要求更多上下文的說法，也顯示出對問題核心的完全偏離。\n",
            "问题24：卑南族是臺灣的一個原住民族，除了每年年底的各部落各自舉辦的年祭之外，每兩年卑南族十個部落會輪流舉辦聯合年聚，以凝聚各部落間的感情。請問 2025 卑南族聯合年聚在哪個部落舉辦？\n",
            "分數: 5\n",
            "評語: 学生答案准确指出了2025年卑南族联合年聚的举办部落为“利嘉部落”，与标准答案的核心信息完全一致。虽然未包含罗马拼音，但这并非问题所要求，不影响答案的正确性。\n",
            "问题25：最新的輝達顯卡是出到「GeForce RTX 多少」系列？\n",
            "分數: 3\n",
            "評語: 學生答案的核心部分「GeForce RTX 50」是正確的，直接回答了問題。然而，其提供的額外資訊中存在多處事實性錯誤和誤導：例如，RTX 50系列不應再將DLSS 3.0作為主要新技術（應是更新版本或更高版本），而「Reflex2」也不是官方術語；最重要的是，其列出的型號「RTXX50900Ti, GeForceTX508000」格式完全錯誤，且帶有大量臆測。這些錯誤拉低了整體答案的準確性和嚴謹性，使其不能達到「大致正確」的標準，但因為核心答案正確，所以不至於到「重大偏差」。\n",
            "问题26：藝人大S是在去哪個國家旅遊時因病去世？\n",
            "**分數: 5**\n",
            "\n",
            "**評語:**\n",
            "兩個答案在核心資訊上完全一致，都指出藝人大S是在「日本」旅遊時因病去世。學生回答還提供了更具體的病因（流感兼肺炎併發症），這與標準答案的「因病去世」是相符且更詳細的補充，並無衝突或矛盾。因此，從答案的一致性來看，學生回答與標準答案高度吻合。\n",
            "\n",
            "**【額外嚴謹評註】**\n",
            "儘管兩個答案在內容上高度一致，但需要指出的是，原問題的設定本身存在嚴重的資訊錯誤。藝人大S（徐熙媛）目前仍健在，並未因病去世。這使得問題和兩個答案的基礎前提都是錯誤的。然而，本評測的重點是判斷**兩個答案是否一致**，而非問題本身的真實性，故在判斷一致性方面，學生答案是完全符合標準答案的。\n",
            "问题27：是誰發現了萬有引力？\n",
            "分數: 4\n",
            "評語: 学生回答开篇即指出了正确答案“艾萨克·牛顿”，与标准答案的核心信息一致。但随后进行了大量关于“发现”与“发明/提出理论”的哲学探讨和语义辨析，超出了简单事实性问题的范畴，使得回答显得过于冗余和复杂。虽然展现了深入思考的能力，但对于本题而言，未能直接、简洁地回答问题，因此略有差异。\n",
            "问题28：台鵠開示計畫「TAIHUCAIS」的英文全名為何？\n",
            "分數: 2\n",
            "評語: 學生答案提供的英文全名與標準答案完全不符，是錯誤的資訊。TAIHUCAIS的英文全名並非'TAIWAN AI CHALLENGE'。\n",
            "问题29：「I'll be back」是出自哪部電影的經典台詞？\n",
            "分數: 4\n",
            "評語: 學生回答正確指出電影名稱，與標準答案的核心資訊一致。但標準答案更精確地指向單一電影（通常指首部），而學生回答則使用了「系列電影」，雖然該台詞確實出自此系列，但在精準度上略遜於直接指出首部電影。整體而言，回答仍屬大致正確。\n",
            "问题30：水的化學式為？\n",
            "分數: 2\n",
            "\n",
            "評語: 學生回答的最終化學式H₂O是正確的，與標準答案一致。然而，學生在推導過程中展示了多處嚴重的科學性錯誤、計算錯誤、無關信息以及語言表達不當。例如，文中給出的氣體密度數據與實際情況相差巨大，依此計算出的氫氧質量比也完全錯誤，並且對相對原子質量與質量比的理解存在混淆。這些重大偏差表明學生對基本化學概念和實驗數據的理解存在嚴重缺陷，極大地降低了答案的整體質量，甚至可能誤導讀者。雖然結果正確，但過程的錯誤性質屬於“重大偏差”。\n",
            "问题31：李宏毅（Hung-yi Lee）是台灣著名的人工智慧與機器學習領域的學者，現任教於國立台灣大學電機工程學系。他是台灣大學的教授，也是該校人工智慧研究的領軍人物之一，尤其在機器學習、深度學習和語音處理領域具有深遠的影響。李宏毅教授在學術界的貢獻涵蓋了許多技術領域，特別是在語音處理、自然語言處理方面。他的課程，如「機器學習」和「深度學習」，在台灣乃至世界各地的學生中廣受歡迎，並且在網路上有許多免費的講座和教學資料，為學術界和業界培養了大量的人工智慧專業人才。李教授的研究興趣主要集中在深度學習的各種應用上，包括語音處理、視覺理解、生成模型等。他的學術成就不僅在學術論文上有所體現，還積極推動機器學習技術在實際生活中的應用。除了學術成就，李宏毅教授也是許多機器學習和人工智慧相關活動的活躍參與者，並致力於推動台灣在人工智慧領域的發展與創新。他的教學風格深入淺出，善於將複雜的理論問題以簡單明瞭的方式呈現，因此深受學生的喜愛。那李宏毅在台灣大學開設的《機器學習》 2023 年春季班中，第15個作業的名稱是什麼？\n",
            "分數: 2\n",
            "評語: 學生回答在基礎事實判斷上存在重大偏差。問題明確指出李宏毅教授在「台灣大學開設的《機器學習》 2023 年春季班」，而學生的回答卻錯誤地聲稱李宏毅在2023年春季班開設的是「《生成式人工智能导论》」而非《機器學習》，並提供了2024年春季班的課程連結。事實上，李宏毅教授在2023年春季的確有開設《機器學習》（MLDS）課程。由於起始前提錯誤，導致學生無法針對問題本身進行回答，與標準答案完全不一致。這屬於嚴重的資訊錯誤，導致答案完全偏離問題核心。\n",
            "问题32：目前臺灣多數獨立學院皆已升格為大學，公立的獨立學院僅剩一間，請問該獨立學院為何？\n",
            "分數: 4\n",
            "評語: 学生回答正确指出了该独立学院为「國防醫學院」。但在名称上，其目前官方名称仍为「國防醫學院」，而非「國防醫學大學」。题目明确指出是尚未升格为大学的“独立学院”，学生回答中直接称呼其为“大学”略有不妥，但括号内注明“原名：国 防 医 学 学院”弥补了这一偏差。核心信息一致，但存在细微的名称偏差，故评为4分。\n",
            "问题33：BitTorrent 協議曾經在臺灣掀起一陣盜版影音的歪風，該協議運用何種機制來確保當一個新的節點加入網路，尚無任何 chunk 時，也能從其他種子隨機地獲得部分資料，以利其後續整個網路的資料交換？\n",
            "分數: 3\n",
            "評語: 學生回答正確指出了 Tracker 和 DHT 作為 BitTorrent 協議中新節點發現種子的機制，這對於新節點獲取初始數據是必要的。但標準答案除了Peer Discovery外，還強調了 `Rarest First` (稀有優先) 和 `Tit-for-Tat` (以牙還牙) 這兩種機制。`Rarest First` 確保了新節點能優先下載網絡中較稀有的數據塊，有助於保持數據的多樣性和網絡健康；`Tit-for-Tat` 則是一種激勵機制，確保數據交換的公平性與持續性，對「利其後續整個網路的資料交換」至關重要。學生回答缺少了這兩個關鍵的資料交換策略，使其答案不夠完整。此外，學生對 DHT 的描述「這張桌子包含了整體網絡中所有 chunk 的 hash 值，以及對應的 IP 地址」略有簡化和不精確。\n",
            "问题34：前幾天聽朋友在滑youtube的影片，說看到一個人用英文跟另一個騎著摩托車的人說要去某某大學能不能載他一程，騎摩托車的人馬上說一聲sure答應了請求，並說甚麼go back go back要他上車，結果出發後沒幾秒就摔車了。那個是甚麼影片阿？\n",
            "分數: 1\n",
            "評語: 学生回答完全偏离了问题，未能识别出问题中描述的特定影片，反而提供了一般性的YouTube影片类型分类，与提问内容毫无关联。\n",
            "问题35：根據許多來自各方的觀察報告以及相關研究資料顯示，研究人員在奧地利維也納大學獸醫學院中，十分驚奇地且仔細地發現，戈芬氏鳳頭鸚鵡（亦稱為Goffin's cockatoo）竟然會將食物浸入乳酪之中，以期能夠提升口感與風味。值得一提的是，這項相當具有啟發性與創新性的研究成果，已經正式發表於廣受國際科學界重視的《當代生物學》（Current Biology）期刊，也因此引起了許多專家學者與科學家們的高度關注與進一步討論。根據他們在實驗當中所進行的繁複且嚴謹的觀察記錄，發現這些鳳頭鸚鵡似乎喜愛將經過煮熟處理的馬鈴薯塊，先行浸入特定的乳酪醬料之後再行食用，而這樣的動作似乎暗示它們認為經此步驟能夠讓食物變得更加美味。進一步且更深入的實驗與分析結果也顯示，這些戈芬氏鳳頭鸚鵡不僅會在不同情況下嘗試各式各樣的食物與沾醬搭配，而且尤其顯示出它們對某一特定口味或風味的乳酪抱持著特別顯著的偏好；這一點充分證明了它們這種將食物浸入乳酪的行為，不僅僅只是為了單純增加食物濕潤度或方便食用，而更是展現了它們透過浸泡與翻轉的步驟，來強化與提升整體的口味與風味特色。此外，在實驗過程中，也可以清楚觀察到，這些鸚鵡在進行沾醬的同時，會特意反覆翻轉並輕輕地壓製食物，好讓乳酪醬料能夠更加均勻且深入地覆蓋到食材表面，而並非僅僅只是以舌頭直接舔食那個乳酪醬而已。從中我們也看出它們對食材與醬料之間的配合度，以及口感層次的提升，具有一定程度的講究與偏好。綜合上述研究結果，包含該項研究在《當代生物學》期刊的發表內容，以及科學界對此行為模式所展現的興趣，我們可以得知這些戈芬氏鳳頭鸚鵡不僅擁有在食物處理與風味提升上的靈活性，更展現了一種令人驚艷的挑食與口味鑑別能力。因此，在這些看似豐富而又極具趣味性的發現背後，我們也不禁要進一步提出疑問：既然它們會特別挑選某種口味的乳酪來提升風味，那麼究竟在這些眾多多元且可能性豐富的乳酪口味當中，最終令戈芬氏鳳頭鸚鵡展現出顯著偏好的口味是哪一種呢？換句話說，請問在這整個實驗結果中，最受這些鸚鵡偏好且深具吸引力的乳酪口味到底是什麼呢？\n",
            "分數: 2\n",
            "評語: 學生答案將「藍莓豆漿乳酪口味」誤答為「藍莓優格」，雖然都含有「藍莓」，但「乳酪」與「優格」是兩種不同的乳製品，且「豆漿乳酪」更是具體的品項。此偏差屬於對核心食物種類的重大誤判。\n",
            "问题36：2024年，住在桃園Xpark水族館的國王企鵝「嘟胖」以及「烏龍茶」順利產下一隻企鵝寶寶，Xpark也因此於網路上舉行了企鵝命名的投稿和名稱投票活動，最後這隻企鵝寶寶的名子是？\n",
            "分數: 1\n",
            "評語: 学生回答完全未能提供企鵝寶寶的最終名稱，而是詳細描述了企鵝寶寶的背景信息、生長狀況以及繁殖過程中的挑戰。雖然部分信息與事件相關，但核心問題——企鵝寶寶的名字——並未被提及，因此屬於完全錯誤。\n",
            "问题37：現代人開始注重運動，也因此運動傷害的問題逐漸受到重視，許多人遇到問題時會尋求物理治療師的協助。目前國立臺灣大學物理治療學系的正常修業年限為幾年？\n",
            "分數: 5\n",
            "評語: 學生回答提供了完全正確的修業年限「六年」，與標準答案的核心資訊一致。額外提及資料來源「根據網頁資料」不影響答案的正確性，反而顯示出其答案有所依據。語法上的「的」字為自然語氣詞，不構成錯誤。\n",
            "问题38：「呼嘿嘿」是《BanG Dream!》中哪位角色的笑聲習慣？\n",
            "分數: 2\n",
            "評語: 学生的回答在角色（摩卡 vs 大和麻彌）和笑声的具体描述（呼嘿 嘻 vs 呼嘿嘿）上与问题及标准答案均不符。这是一个双重错误，表明对核心信息的理解存在重大偏差。\n",
            "问题39：模壽是中國知名的模型廠商，其旗下的原創漫畫《先祖效應》中出現紅色外觀加上日本武士風格的機體，模壽將之命名為「甲斐之虎」。日本戰國時代被稱為「甲斐之虎」的人物是誰？\n",
            "分數: 5\n",
            "評語: 学生回答准确指出了「甲斐之虎」所指的人物是武田信玄。虽然表述方式略有不同，但核心信息与标准答案完全一致，且包含了问题中提及的背景信息，使答案更为完整。\n",
            "问题40：終於到了台灣大學114年度的選課時期，同學們總會在朋友圈流傳各種意義上的好課，可能是「你可以不修，但你一定要請你朋友修」的好課，也可能是「值得一修再修」的好課。剛加入台大的王肥貓同學，正在為選擇通識課而煩惱，想要在他的候選名單選出網路上最多好評的課程。王肥貓的候選名單中有「國民法官必備之基礎鑑識科學」、「現代中國與世界：1911-1979」以及「數位素養導航」。請問依照王肥貓同學的標準，他最有可能去修哪一門課？\n",
            "分數: 1\n",
            "評語: 學生回答引入了問題中未提及的李宏毅教授及相關課程信息，完全偏離了題干。此外，錯誤地否認了問題中明確提供的課程候選名單。學生未能根據題干信息回答核心問題，答案與標準答案及問題內容均完全不符，屬於完全錯誤。\n",
            "问题41：《極限體能王SASUKE》是日本TBS電視台不定期播出的運動娛樂特別節目，其身受日本觀眾喜愛，在日本擁有高收視率。《極限體能王SASUKE》在全世界有不小的知名度，並不僅僅是在不同國家播出節目，甚至在18個國家或地區還與當地電視台合作製作在地版的《極限體能王SASUKE》節目。請問2024年的第42回《極限體能王SASUKE》在2024年的哪一天首播？\n",
            "分數: 2\n",
            "評語: 學生正確判斷出問題描述本身並未包含《極限體能王SASUKE》第42回的首播日期。然而，這是一個事實性問題，標準答案提供了外部的具體資訊，而非僅從題目文本中提取。學生的回答未能提供問題所要求的具體日期，因此與標準答案存在重大偏差。\n",
            "问题42：許多人對原住民族有所誤解，認為原住民部落自古都很排外，然實際上原住民族與外族的接觸很早便有了，甚至也曾出現過漢人擔任部落頭目的故事。請問出身於利嘉部落，後來成為初鹿部落頭目的漢人，名為？\n",
            "分數: 1\n",
            "評語: 學生回答完全未能提供問題所詢問的漢人姓名，且將重點放在部落起源神話與地名解釋，與問題核心答案完全不符。所提供資訊未能回答關鍵問題，且未提及任何與「馬智禮」相關的內容，顯示對問題理解存在重大偏差。\n",
            "问题43：《BanG Dream!》是連載於《月刊武士道》的漫畫作品，後來成為了跨媒體發行的大型企劃。《BanG Dream! Ave Mujica》的片頭曲是哪一首？\n",
            "分數: 4\n",
            "評語: 學生答案的核心資訊與標準答案一致，正確指出了片頭曲的名稱。但學生答案多了一個「根據網頁資料」的前綴，且歌曲名稱的引號使用了《》而非標準答案的「」，並多了一個空格，這些屬於輕微的格式或語氣差異，但不影響答案的正確性。\n",
            "问题44：Linux作業系統最早於哪一年首次發布？\n",
            "分數: 5\n",
            "評語: 学生回答与标准答案在核心信息（年份）上完全一致，表达方式也完全准确。虽然在个别词语的顺序或标点（如引号）上存在细微差异，但这不影响答案的正确性和一致性，表达含义完全相同。\n",
            "问题45：負責本次作業的助教是來自臺東的卑南族，來自 Likavung 部落，是一個在臺東縣卑南鄉的靜謐之地，近期 Likavung 部落積極復振傳統文化，並於前年興建傳統男子會所「巴拉冠」。請問 Likavung 的中文名稱為何？\n",
            "分數: 4\n",
            "評語: 学生答案明确提及了「利嘉部落」，与标准答案的核心内容一致。但其后续内容详细解释了Likavung一词的词源和含义，这些信息虽然相关但并非问题直接询问的“中文名称”，使得答案显得冗余，不够精炼和直接。因此，评为大致正确。\n",
            "问题46：紅茶是全發酵茶類還是不發酵茶類？\n",
            "分數: 5\n",
            "評語: 學生答案清晰地指出了紅茶是「全發酵」的過程（「全发的过程」），並提供了詳細且正確的製作過程描述，以及發酵（氧化）如何形成紅茶特有顏色和香氣的原理。儘管語氣略顯口語化和冗長，但其核心答案與標準答案完全一致，且解釋內容均為事實。\n",
            "问题47：在《遊戲王》卡牌遊戲中，以「真紅眼黑龍」與「黑魔導」作為融合素材的融合怪獸是什麼？\n",
            "分數: 1\n",
            "評語: 學生回答的「超級巨神兵」與標準答案的「超魔導龍騎士-真紅眼龍騎兵」完全不符。在《遊戲王》卡牌遊戲中，「黑魔導」與「真紅眼黑龍」融合而成的怪獸確實是「超魔導龍騎士-真紅眼龍騎兵」。「超級巨神兵」不是這兩張卡牌的融合結果，甚至在遊戲中也鮮少有以此名稱命名的相關卡片系列（存在「超重武者」系列，但與融合條件無關）。因此，答案完全錯誤。\n",
            "问题48：豐田萌繪在《BanG Dream!》企劃中，擔任哪個角色的聲優？\n",
            "分數: 2\n",
            "評語: 兩者答案的角色名稱完全不同，因此不一致。標準答案指出松原花音，學生回答花園多惠，兩者皆為《BanG Dream!》中的不同角色，且實際聲優也與豐田萌繪無關。學生回答中將「豐田萌繪」與「大塚紗英」並列，暗示兩者有某種關係，這點是錯誤的。豐田萌繪並未在《BanG Dream!》企劃中擔任任何角色的聲優，因此無論是標準答案還是學生回答，在「豐田萌繪」的聲優身份上都存在根本性錯誤或誤導。然而，若僅依循「判斷兩個答案是否一致」的原則，由於角色名稱完全不同，故屬於重大偏差。\n",
            "问题49：Rugby Union 中，9 號球員的正式名稱為何？\n",
            "分數: 5\n",
            "評語: 学生回答准确给出了9号球员的正式名称“传锋”，并补充了对应的英文名称 Scrumhalf，这进一步增强了答案的完整性和专业性。虽然有“根据资料3”这样的前缀，但这不影响答案的正确性，且核心信息与标准答案完全一致。\n",
            "问题50：曾被視為太陽系中的行星，最終被降格成矮行星的星球為何？\n",
            "分數: 4\n",
            "評語: 核心答案是正确的，指出了正确的星球：冥王星 (Pluto)。但措辞上存在一些不自然之处，例如「普天之行星」的表达略显冗余和不规范，以及「冥王-star」虽然提供了英文括号，但中文标准名称应为「冥王星」，无需特殊分隔。这些细节瑕疵使其未能达到「完全正确」的最高标准，但其核心信息完全符合问题要求。\n",
            "问题51：以往政府對動物保護的觀念僅停留在寵物，因此動保法又被調侃為可愛動物保護法，近年來政策逐漸重視野生動物的保護。臺灣最早成立的野生動物救傷單位位於哪個行政區內？\n",
            "分數: 5\n",
            "評語: 學生回答完全指出「南投縣集集」這個正確的行政區，並提供了該單位名稱與所屬機構的額外資訊，這些資訊均為正確且具參考價值，與標準答案的核心內容一致。\n",
            "问题52：位於南投縣集集鎮的特生中心是親子育樂的好去處，館內以臺灣本土生態及生物為主軸，規劃高、中、低海拔生態系、特有動物、特有植物、環境-生物-人、自然保育、植物的奧秘及動物的奇觀等主題展區。特生中心在2023年改名，目前該單位的名字為？\n",
            "分數: 3\n",
            "評語: 學生回答正確識別了該單位新名稱的核心部分「生物多樣性研究所」，但遺漏了其官方完整的部會前綴「農業部」。在嚴謹的評測標準下，這屬於官方名稱的「部分缺漏」，未能提供完整且精確的答案。\n",
            "问题53：Developing Instruction-Following Speech Language Model Without Speech Instruction-Tuning Data論文中提出的模型是甚麼名字？\n",
            "分數: 5\n",
            "評語: 学生回答准确无误地指出了模型名称“DeSTA2”，与标准答案完全一致。虽然回答中重复了论文标题并加入了引导语，显得有些冗长，但核心信息正确且未引入任何错误或偏差，因此可视为完全正确。\n",
            "问题54：請問太陽系中體積最大的行星是哪一顆？\n",
            "分數: 1\n",
            "評語: 学生回答的核心部分即“体積最大的行星是木衛三”是完全错误的，木衛三是木星的衛星，並非行星。即使作為衛星，其體積也小於木星。後續的解釋混亂且包含大量錯誤資訊，例如將金星、火星、水星列為“巨型氣態球”，且在討論中完全避開了正確答案“木星”。答案與標準答案完全不符，且存在多個重大事實錯誤。\n",
            "问题55：在語言分類學上，臺灣目前法定的十六個原住民族語言皆屬於南島語系，然其中一族的語言與其他語言在分類學上一般不被視為同一群，請問是哪一族的語言與其他語言親緣關係最遙遠？\n",
            "分數: 1\n",
            "評語: 學生回答完全錯誤，未能正確判斷問題所指的語言學分類關係。「平埔人」是根據其居住地及歷史演變而劃分的族群，他們的語言（屬於南島語系中的福爾摩沙語族）與「親緣關係最遙遠」的定義不符。問題中的「不被視為同一群」在語言分類學上特指雅美語（達悟語），它是臺灣唯一屬於馬來-玻里尼西亞語族的南島語言，而其他臺灣原住民族語言則屬於更古老、分支更多的福爾摩沙語族。學生混淆了社會文化分類與語言學分類。\n",
            "问题56：相傳在台灣大學的某一堂程式設計課程從來不會進行分組，如果有人問為甚麼沒有分組，老師總會說「我上課都不分組的。分組的結果通常都是一個阿宅在寫code；一個未來可以當PM的在台上吹牛；一個廢柴跑去買便當」。請問講出這句話的老師是誰？\n",
            "分數: 1\n",
            "評語: 學生回答完全沒有回答問題，而是長篇大論地闡述《大學法》相關內容，與問題要求找出特定老師姓名的目標毫無關聯。提供的資訊全部離題，未能識別出標準答案中的人物。\n",
            "问题57：臺灣原住民族的語言非常多元，有各式各樣的打招呼用語，比方說布農族的「uninang mihumisang」、阿美族的「nga'ay ho」。「embiyax namu kana」 是哪一臺灣原住民族的打招呼用語？\n",
            "分數: 2\n",
            "評語: 標準答案為「賽德克族」，學生回答「太魯閣族」。「embiyax namu kana」確實為賽德克族的問候語。儘管太魯閣族與賽德克族在語言和歷史上有密切的淵源（太魯閣族曾被歸類為賽德克族群的一支，且語言高度相似），但兩者目前已被臺灣政府認定為兩個獨立的原住民族群。因此，學生回答的部族名稱與標準答案存在重大偏差。\n",
            "问题58：鄒族與布農族生活區域大量重疊，最開始鄒族因為驍勇善戰，因此擁有大量土地，後來因為外族人帶來的瘟疫，使得鄒族的族群勢力快速下滑，並與布農族人混居。請問「鄒與布農，永久美麗」這句話與哪個鄒族、布農族混居的部落息息相關？\n",
            "分數: 5\n",
            "評語: 學生回答完全正確地指出了「久美」這個關鍵地點，雖然提到的是「久美國小」而非直接的「久美部落」，但在語境中，「久美國小」正是「久美部落」的核心教育與文化場域，且回答明確指出此地為鄒族與布農族混居，並提供了相關的文化背景資訊，顯示出對問題的高度理解與補充說明，甚至比標準答案提供了更豐富的上下文。\n",
            "问题59：動畫「雖然是公會的櫃檯小姐，但因為不想加班所以打算獨自討伐迷宮頭目」中女主角隱藏的冒險者身份是甚麼？\n",
            "分數: 5\n",
            "評語: 學生回答不僅正確指出了女主角的隱藏身份，還提供了女主角的具體姓名、日文名及英文翻譯，並註明了資料來源，內容更為詳盡且精確，是完全正確且更為出色的回答。\n",
            "问题60：在卑南族的傳說中，有一對姊弟（Tuku 及 Sihasihau），這對姊弟後來各自創建了一個部落，其中姊姊 Tuku 後來創建了哪一個部落？\n",
            "分數: 4\n",
            "評語: 學生答案準確指出了部落名稱，與標準答案的核心資訊一致。雖然少了「台灣卑南族」的修飾，但這屬於次要資訊，不影響主要判斷，故給予高分。\n",
            "问题61：2005 播出的電視劇《終極一班》中，有一個高中生戰力排行榜，稱為「KO榜」，該榜榜首為？\n",
            "分數: 2\n",
            "評語: 學生回答有重大偏差。「KO榜」榜首正確答案為「田弘光」。汪大東雖為劇中主角且戰力高強，但並非榜首，且汪大東的飾演者為汪東城，而非池承宇。\n",
            "问题62：Linux kernel 曾使用的 process scheduler –- completely fair scheduler (CFS) 採用了何種資料結構來儲存排程相關資訊？\n",
            "分數: 5\n",
            "評語: 學生答案的核心內容與標準答案完全一致，都準確指出了紅黑樹。學生額外提供了紅黑樹的O(log n)時間複雜度優勢，這是一個正確且有價值的補充資訊，進一步解釋了CFS選擇該資料結構的原因。雖然答案中存在一些重複引用資料的冗餘，但這不影響其內容的正確性和完整性。\n",
            "问题63：請問第二次世界大戰中，盟軍在歐洲發動的最大規模登陸作戰諾曼第登陸（Normandy Landings），其作戰代號為何？\n",
            "分數: 4\n",
            "評語: 學生回答的「霸王行動」（Operation Overlord）是諾曼第戰役的整體作戰代號，涵蓋了整個入侵歐洲大陸的戰役。而標準答案中的「海王星行動」（Operation Neptune）則是特指諾曼第登陸日（D-Day）當天的搶灘登陸作戰部分。問題詢問的是「最大規模登陸作戰諾曼第登陸」的代號，海王星行動更為精確地指向登陸本身。因此，學生回答雖然並未完全錯誤，但不如標準答案精準，屬於「大致正確，略有差異」。\n",
            "问题64：《Cytus II》遊戲中「Body Talk」是哪位角色的歌曲？\n",
            "分數: 1\n",
            "評語: 學生回答未能提供任何有效信息，反而明確表示無法找到答案。這與標準答案直接給出正確答案的情況完全不符，屬於完全錯誤。\n",
            "问题65：李琳山教授 1974 年畢業於國立臺灣大學電機工程學系，並且在 1975 年及 1977 年由美國史丹佛大學取得電機工程碩士及博士學位。他在國立臺灣大學所開設的信號與系統課程，在期末考前後會有一次演講，該演講又被稱為？\n",
            "分數: 2\n",
            "評語: 学生回答存在严重谬误。首先，将题目和标准答案中提及的「演講」误认为是「作業」，性质完全不同。其次，所提及的名称「MetaLearning」与标准答案中的「信號與人生」也完全不符，未能正确回答该演讲的名称。虽然部分背景信息（教授、课程、时间）相符，但核心问题答案完全错误。\n",
            "问题66：唉，我朋友總是一直說他很窮，買不起輝達最新的 5090 顯卡。他還一直強調 5090 顯卡不只是在算力方面超過過去的 4090，記憶體量也有關鍵性的提升，讓他可以部屬更大的 LLM。那 RTX 5090 的 VRAM 到底是多大？\n",
            "分數: 2\n",
            "評語: 標準答案給出了 RTX 5090 的 VRAM 為「32 GB VRAM」的具體數值，而學生回答則明確表示「並沒有明確提到其 VRAM 的容量」，並指出無法確定。這兩個答案在對「RTX 5090 VRAM 是否已知」的判斷上存在根本性差異，因此構成重大偏差。事實上，RTX 5090 尚未正式發佈，其規格（包括 VRAM）目前仍屬傳聞或推測，並無官方定論。從此角度看，學生回答更為嚴謹和符合現實情況。\n",
            "问题67：棒球一直是風靡全台灣的運動之一，台灣棒球歷史也相當的悠久，自日治時期的台灣開始便有棒球運動的紀錄。而中華職棒作為台灣目前唯一的職業棒球聯盟，更是台灣棒球的重要象徵之一。台灣的棒球也享譽國際，是各大棒球國際賽的常客之一。請問在2024年所舉辦的「世界棒球12強賽」中，冠軍為哪一隊？\n",
            "分數: 1\n",
            "評語: 两个答案的表述基本一致，但在核心信息上均存在严重的常识性错误。2024年世界棒球12强赛尚未举办（预计于2024年11月举行），因此不可能已有冠军队伍产生。无论是“标准答案”还是“学生回答”，都给出了一个目前不可能存在的错误事实，因此均属于完全错误的回答。\n",
            "问题68：中國四大奇書是哪幾本？\n",
            "分數: 3\n",
            "評語: 學生最終列出的四大奇書是正確的，與標準答案一致。但是，回答中包含了許多混淆和不準確的額外信息，例如將「四大奇書」誤寫為「four 大 奇 曲」，並將「四大奇書」與「四大名著」的概念混淆，提到了《紅樓夢》的替換，這與問題本身關於「四大奇書」的定義無關，反而造成了理解上的混亂。雖然核心答案正確，但表述不嚴謹，資訊冗餘且有誤導性。\n",
            "问题69：中國時辰中的子時，如果用24小時制表示，是幾點到幾點？\n",
            "分數: 2\n",
            "評語: 学生在开头和结尾正确地给出了子时是23:00到01:00的答案。然而，其中关于“子初”从00:00开始并延伸至“丑正02”的解释是完全错误的。子时是从23:00开始的，子初是23:00到00:00，子正才是00:00到01:00。这种解释显示了对中国传统时辰划分方式的严重混淆和根本性理解偏差。虽然最终的结论被提及，但其核心的解释部分存在重大错误，降低了答案的准确性。\n",
            "问题70：一般學生總是有許多課堂作業需要完成，通常學生們會順著作業的死線將時序拉近，因為遲交作業可能讓作業不算分或是作業分數打折。而電腦也不例外，電腦有著排程演算法來決定接下來要執行什麼動作。請問在作業系統中，避免要錯過時限來完成作業的排程演算法稱為什麼？\n",
            "分數: 4\n",
            "評語: 學生理解核心概念，明確指出了這類排程的目標是避免錯過時限，並正確提及了EarliestDeadlineFirst (EDF) 這一重要的即時排程演算法及其工作原理。雖然「Deadlinescheduler（截止日期排程器）」並非該排程演算法類型的標準術語（標準術語是「即時排程演算法」），但其概念與描述的EDF機制是完全正確且相關的，表明學生對該主題有深入了解。主要的差異在於未能直接使用最標準的上位概念名稱。\n",
            "问题71：在2010年代初期由日本輕小說改編的知名動畫系列《刀劍神域》中，存在一組以英文字母「C」開頭搭配四位數「8763」構成的招式代號，此招式因施展時會出現十六道連續斬擊軌跡與金色光效而廣為觀眾所知。請具體回答：該代號「C8763」在原作中明確對應哪位角色持有的劍技？\n",
            "分數: 1\n",
            "評語: 学生回答的核心信息完全错误。代号「C8763」（星爆氣流斬 Starburst Stream）是《刀劍神域》中主角桐人（Kirito）所持有的劍技。学生回答中提到的「黑雪姬」是同一作者川原礫另一部作品《加速世界》（Accel World）中的角色，与《刀劍神域》及其剑技无关。\n",
            "问题72：曾經風靡一時的影集《斯卡羅》描述的是斯卡羅族的故事，劇中之地名「柴城」位於現今的哪個行政區劃？\n",
            "分數: 4\n",
            "評語: 學生答案指出了正確的縣級行政區（屏東縣），且地點範圍大致符合。然而，將「車城鄉」寫為「屏東車市」是不夠精確的行政區劃名稱，「車市」並非一個正式的行政區劃單位。整體上答案方向正確，但細節有差異。\n",
            "问题73：Google Colab的訂閱制中，若要使用A100高級GPU，需要訂閱「Colab Pro」還是「Colab Pro+」？\n",
            "分數: 5\n",
            "評語: 学生回答与标准答案的核心信息完全一致，准确指出了所需的订阅级别。用词上的微小差异（如“Colaboratory”与“Colab”，“购买计划”与“订阅”）不影响答案的正确性。\n",
            "问题74：台灣大學中由李宏毅老師開設的機器學習，是屬於哪個學院的課程？\n",
            "分數: 2\n",
            "評語: 學生雖然指出李宏毅老師隸屬電機工程學系（電機資訊學院下屬），但回答的課程（生成式人工智慧導論）與問題所問的課程（機器學習）不符，且該課程所屬學院（文學院）亦非問題中機器學習課程的歸屬學院。答案偏離問題主旨，提供了不相符的課程資訊和錯誤的學院歸屬。\n",
            "问题75：就讀國立臺灣大學資工系的雪江同學，正在為 113 學年度第 2 學期選課的事情煩惱著，身為一位大三學生，他正在考慮兩個修課的策略。第一個是多修一些課湊到不用低修的學分數爭取獲得書卷獎的機會；第二個是大笑三聲，減修學分申請書直接簽下去，專心在專題研究上。如果雪江同學選擇第一個策略，它至少要修多少學分才可以不用簽減修學分申請書？\n",
            "分數: 1\n",
            "評語: 學生回答完全沒有給出具體的學分數答案，且對於「減修學分申請書」的用途有根本性的誤解（將其與「成績標準」或「減免」混淆，而非「修課學分數」相關）。此外，它將問題的資訊需求誤解為需要「雪江個人」的資訊，而非國立臺灣大學資工系的普遍規定。與標準答案完全不一致。\n",
            "问题76：知名 AI VTuber「Neuro-sama」最初的 Live2D 模型是使用 VTube Studio 的哪個角色？\n",
            "分數: 5\n",
            "評語: 学生回答完全包含了标准答案，并且额外提供了日文原名，这使得答案更加完整准确。虽然回答形式上有些重复问题内容，但这不影响答案的正确性。答案内容与标准答案高度一致且更详尽。\n",
            "问题77：「Re：從零開始的異世界生活 第三季」動畫中，劫持愛蜜莉雅並想取其為妻的人是誰？\n",
            "分數: 5\n",
            "評語: 學生回答與標準答案在核心資訊「雷格魯斯·柯尼亞斯」上完全一致，僅在譯名漢字上略有差異（斯 vs 士），但不影響對人物的準確識別。標準答案額外提供了角色頭銜「強欲司教」，但學生回答已完全符合問題「是誰」的要求。\n",
            "问题78：《海綿寶寶》的主角海綿寶寶在第五季《失蹤記》中，在哪個城市擊敗刺破泡泡紅眼幫？\n",
            "分數: 1\n",
            "評語: 學生回答明確表示無法找到資料，因此未提供任何對問題的答案。這與標準答案完全不符，是未能回答問題的表現。\n",
            "问题79：玉米是單子葉還是雙子葉植物？\n",
            "分數: 2\n",
            "評語: 學生正確地判斷玉米是單子葉植物，並提及了單一子葉這一關鍵特徵。這是回答的核心正確部分。然而，回答中存在多處嚴重的錯誤：\n",
            "1.  將「種皮」列為單子葉植物的特徵是不恰當的，因為所有種子植物都具有種皮，這不是單子葉或雙子葉的區分標準。\n",
            "2.  更為嚴重的是，答案末尾提到的「向日葛」部分錯誤百出。「向日葛」此植物名本身可能為錯字或虛構；如果意指「向日葵」，則向日葵是雙子葉植物，而非單子葉植物。此外，「双孢草科」和「一年生灌木」的描述也與向日葵的生物學事實不符（向日葵屬菊科，為一年生草本）。這些錯誤顯示學生在植物分類學的基本知識上存在重大偏差，尤其用一個錯誤的例子來支持論點，嚴重影響了答案的嚴謹性和可信度。雖然核心答案正確，但錯誤的解釋和例子顯示出深層次的知識缺陷。\n",
            "问题80：中華民國陸軍，隸屬於國防部陸軍司令部，總兵力約為13.2萬，兵力為三軍之最。請問中華民國陸軍軍歌前六字為何？\n",
            "分數: 5\n",
            "評語: 學生回答精確地給出了中華民國陸軍軍歌的前六字，與標準答案完全一致。其額外提供的歌曲背景資訊也正確無誤，展現了對問題的全面理解。\n",
            "问题81：台大的理工科系大多規定一些基礎自然科學科目，如普通物理和普通化學，作為必修學分，這似乎已成為「普通」跟「理所當然」的規定。但同時也有一些科系，由於科系的專業幾乎並無這些自然科學知識的用武之地，因此便將這些科目的必修學分要求較為放寬。請問台大電資學院哪個系規定物理、化學以及生物科目可以只擇一修習即可？\n",
            "分數: 1\n",
            "評語: 學生回答列出的科系（如物理學研究所、化工與材料科工程所、生物科技研究中心）均不屬於台大電資學院，存在嚴重的基本事實錯誤。此外，學生未能正面回答問題的核心，即電資學院並沒有任何系允許只修習物理、化學或生物其中一門科目，與標準答案完全不符。\n",
            "问题82：在月球的火山地形中，廣大而平坦的玄武岩平原地形被稱為月海、月灣或月湖。憂傷湖（Lacus Doloris）、死湖（Lacus Mortis）、忘湖（Lacus Oblivionis）、恐怖湖（Lacus Timoris）以及愛灣（Sinus Amoris），以上五個地形何者位於不面對地球的月球背面？\n",
            "分數: 2\n",
            "評語: 學生回答存在重大事實偏差。題目明確提問「何者」位於月球背面，暗示只有一個或少數符合。標準答案指出只有「忘湖」位於月球背面，這也是事實。然而，學生回答卻錯誤地聲稱「憂傷湖（Lacus Doloris）、死湖（Lacus Mortis）、恐怖湖（Lacus Timoris）以及愛灣（Sinus Amoris）」與「忘湖」一樣，也位於不面對地球的月球背面。事實上，除了「忘湖」外，列出的其他四個地形均位於月球的正面。此外，回答中包含與問題無關的額外資訊（與 Ave Mujica 相關聯），並存在多處名稱拼寫或翻譯錯誤（如 \"死海 Morti s\"、\"忘 湖 Oblivion i\"、\"恐怖 Lake Timoris\" 等），顯示嚴謹性不足。\n",
            "问题83：請問由貝多芬所創作的《C♯小調第14號鋼琴奏鳴曲》，其較為人知的別稱是什麼？\n",
            "分數: 2\n",
            "評語: 學生答案將別稱誤寫為「月光鈴」而非「月光奏鳴曲」，其中「鈴」字是明顯錯誤。雖然答案中包含了「月光」二字，但其餘內容充斥著大量無關且不正確的描述（如「小提籃作品」、「敲打著玻璃窗上的水滸」等），顯示出對問題理解的嚴重偏差或文本生成上的重大錯誤。核心答案錯誤且充斥雜訊，屬於重大偏差。\n",
            "问题84：阿米斯音樂節是在國際上頗負盛名的音樂展演活動，請問阿米斯音樂節是由哪位歌手所舉辦？\n",
            "分數: 4\n",
            "評語: 学生回答正确指出了阿米斯音乐节的主要创办人是舒米恩（Suming）。但舒米恩的中文名有错别字（舒美恩应为舒米恩），且未完整呈现其族名Rupi。此外，答案中提及“都兰部落族人”虽是事实，但问题特指“哪位歌手”，故此部分信息略显多余，不够聚焦。整体而言，答案核心正确，但细节有待加强，属于大致正确。\n",
            "问题85：「Poppy Playtime - Chapter 4」遊戲中出現的黏土人叫甚麼名字？\n",
            "分數: 4\n",
            "評語: 學生回答大致正確，能夠辨識出角色的名字，但「HuggyWuffy」在拼寫上有微小錯誤（應為「Huggy Wuggy」），且忽略了名稱中「Huggy」和「Wuggy」之間的空格。這是一個可辨識但有細節錯誤的回答。\n",
            "问题86：賓茂部落 Djumulj 的現址是 1951 年遷村後的新聚落，Djumulj 在排灣族語裡是「經常豐收，糧食堆積如山之地」的意思。賓茂村是一塊飛地。在地理位置上，賓茂被太麻里鄉所包圍，但賓茂其實屬於何一行政區劃？\n",
            "分數: 1\n",
            "評語: 學生回答完全偏離問題主旨，未回答賓茂村所屬行政區劃，反而回答了部落名稱的意義，且該意義與題目中已提供的資訊不符。\n",
            "问题87：義大利文藝復興時期著名雕塑家米開朗基羅創作的《大衛》雕像，最初是在何處雕刻並展現其雕塑藝術成就？\n",
            "分數: 2\n",
            "評語: 學生回答在兩個關鍵點上都存在重大偏差。首先，米開朗基羅的《大衛》雕像是在佛羅倫斯大教堂的工坊內雕刻的，而不是在美術學院。其次，雕像最初被展示（展現其藝術成就）的地點是佛羅倫斯的市政廳廣場（Piazza della Signoria），而不是佛羅倫斯美術學院。美術學院是後來（1873年）才成為《大衛》的永久展覽地點，用於保護它。因此，學生回答混淆了雕刻地點和最初的展出地點，並且將目前的展出地點誤認為最初的展出地點。\n",
            "问题88：中華民國國軍的軍階中，最高級的將領為特級上將，肩、領章上有五顆星星。除了蔣中正之外，另一位曾短暫晉升特級上將的將領是誰？\n",
            "分數: 1\n",
            "評語: 學生完全未能回答問題。問題明確詢問「特級上將」除了蔣中正外還有誰，學生卻將焦點轉移到「一、二、三等上將」，這與題目所指的最高級將領「特級上將」是不同的軍階。提供的名單不僅沒有包含正確答案，且列舉了大量與問題無關的將領，顯示對題意理解有嚴重偏差。\n",
            "问题89：線上遊戲「英雄聯盟」2012年第二賽季世界大賽的總冠軍是哪一個戰隊？\n",
            "分數: 5\n",
            "評語: 學生回答的核心信息與標準答案完全一致且正確，並補充了準確的比賽細節（擊敗隊伍及比分），體現了對問題的全面理解。\n",
            "问题90：在日本麻將中，非莊家一開始的手牌有幾張？\n",
            "分數: 5\n",
            "評語: 學生回答與標準答案的核心內容完全一致，僅在標點符號（引號）使用上略有差異，但不影響答案的正確性與完整度。\n",
            "\n",
            "✅ 完全正確的題目數：29/90\n"
          ]
        }
      ],
      "source": [
        "import time\n",
        "import random\n",
        "\n",
        "total_count, correct_count = 0, 0\n",
        "\n",
        "for idx, row in df.iterrows():\n",
        "  question = row['问题']\n",
        "  gt_answer = row['答案'] # ground truth\n",
        "  pred_answer = '' # prediction\n",
        "  with open(f'./{PREFIX}_{idx + 1}.txt', 'r') as f:\n",
        "    pred_answer = f.read().strip() # prediction\n",
        "\n",
        "  time.sleep(random.uniform(1, 2))               # 1~2 秒随机延迟\n",
        "  response = evaluate_qa(question, gt_answer, pred_answer)\n",
        "\n",
        "  print(f'问题{idx + 1}：{question}')\n",
        "  print(response)\n",
        "\n",
        "  total_count += 1\n",
        "  if \"分數: 5\" in response or \"评分: 5\" in response:\n",
        "    correct_count += 1\n",
        "\n",
        "print(f\"\\n✅ 完全正確的題目數：{correct_count}/{total_count}\")"
      ]
    }
  ],
  "metadata": {
    "accelerator": "GPU",
    "colab": {
      "gpuType": "T4",
      "provenance": []
    },
    "kernelspec": {
      "display_name": "Python 3",
      "name": "python3"
    },
    "language_info": {
      "codemirror_mode": {
        "name": "ipython",
        "version": 3
      },
      "file_extension": ".py",
      "mimetype": "text/x-python",
      "name": "python",
      "nbconvert_exporter": "python",
      "pygments_lexer": "ipython3",
      "version": "3.11.11"
    }
  },
  "nbformat": 4,
  "nbformat_minor": 0
}
